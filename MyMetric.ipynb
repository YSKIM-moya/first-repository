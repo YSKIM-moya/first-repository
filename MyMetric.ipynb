{
 "cells": [
  {
   "cell_type": "code",
   "execution_count": 18,
   "id": "bd1f3d95",
   "metadata": {},
   "outputs": [],
   "source": [
    "import tensorflow as tf\n",
    "import numpy as np\n",
    "from tensorflow import keras\n",
    "from tensorflow.keras import layers\n",
    "\n",
    "class MyMetric(keras.metrics.Metric):\n",
    "\n",
    "    def __init__(self, name=\"rmse\", **kwargs):\n",
    "        super().__init__(name=name, **kwargs)\n",
    "        self.mse_sum = self.add_weight(name=\"mse_sum\", initializer=\"zeros\")\n",
    "        self.total_samples = self.add_weight(\n",
    "            name=\"total_samples\", initializer=\"zeros\", dtype=\"int32\")\n",
    "\n",
    "    def update_state(self, y_true, y_pred, sample_weight=None):\n",
    "        y_true = tf.one_hot(y_true, depth=tf.shape(y_pred)[1])\n",
    "        mse = tf.reduce_sum(tf.square(y_true - y_pred))\n",
    "        self.mse_sum.assign_add(mse)\n",
    "        num_samples = tf.shape(y_pred)[0]\n",
    "        self.total_samples.assign_add(num_samples)\n",
    "\n",
    "    def result(self):\n",
    "        return tf.sqrt(self.mse_sum / tf.cast(self.total_samples, tf.float32))\n",
    "\n",
    "    def reset_state(self):\n",
    "        self.mse_sum.assign(0.)\n",
    "        self.total_samples.assign(0)"
   ]
  },
  {
   "cell_type": "code",
   "execution_count": 21,
   "id": "e6d27e32",
   "metadata": {},
   "outputs": [],
   "source": [
    "import tensorflow as tf\n",
    "import numpy as np\n",
    "from tensorflow import keras\n",
    "from tensorflow.keras import layers\n",
    "\n",
    "class AccuracyMetric(tf.keras.metrics.Metric):\n",
    "    def __init__(self, name='accuracy', **kwargs):\n",
    "        super(AccuracyMetric, self).__init__(name=name, **kwargs)\n",
    "        # 정확도 계산에 필요한 상태 변수\n",
    "        self.correct_predictions = self.add_weight(name='correct_predictions', initializer='zeros')\n",
    "        self.total_samples = self.add_weight(name='total_samples', initializer='zeros')\n",
    "\n",
    "    def update_state(self, y_true, y_pred, sample_weight=None):\n",
    "        # y_true와 y_pred의 동일한 값을 찾아 맞춘 예측의 수를 증가시킵니다.\n",
    "        y_true = tf.cast(y_true, dtype=tf.float16)\n",
    "        y_pred = tf.cast(tf.round(y_pred), dtype=tf.float16)  # 예측 값을 0 또는 1로 반올림\n",
    "\n",
    "        # 맞은 예측 수 계산\n",
    "        matches = tf.equal(y_true, y_pred)\n",
    "        self.correct_predictions.assign_add(tf.reduce_sum(tf.cast(matches, tf.float16)))\n",
    "        \n",
    "        # 전체 샘플 수 계산\n",
    "        self.total_samples.assign_add(tf.cast(tf.size(y_true), tf.float16))\n",
    "\n",
    "    def result(self):\n",
    "        # 정확도를 계산 (맞은 예측 수 / 전체 샘플 수)\n",
    "        return self.correct_predictions / self.total_samples\n",
    "\n",
    "    def reset_state(self):\n",
    "        # 상태를 초기화합니다.\n",
    "        self.correct_predictions.assign(0)\n",
    "        self.total_samples.assign(0)"
   ]
  },
  {
   "cell_type": "code",
   "execution_count": 31,
   "id": "cc6226df",
   "metadata": {},
   "outputs": [
    {
     "name": "stdout",
     "output_type": "stream",
     "text": [
      "Epoch 1/20\n",
      "30/30 [==============================] - 13s 426ms/step - loss: inf - accuracy: 0.4583 - val_loss: inf - val_accuracy: 0.4749\n",
      "Epoch 2/20\n",
      "30/30 [==============================] - 12s 419ms/step - loss: inf - accuracy: 0.4761 - val_loss: inf - val_accuracy: 0.4900\n",
      "Epoch 3/20\n",
      "30/30 [==============================] - 12s 419ms/step - loss: inf - accuracy: 0.4934 - val_loss: inf - val_accuracy: 0.5078\n",
      "Epoch 4/20\n",
      "30/30 [==============================] - 12s 419ms/step - loss: inf - accuracy: 0.5161 - val_loss: 5.5586 - val_accuracy: 0.5239\n",
      "Epoch 5/20\n",
      "30/30 [==============================] - 12s 419ms/step - loss: inf - accuracy: 0.5337 - val_loss: 3.9297 - val_accuracy: 0.5396\n",
      "Epoch 6/20\n",
      "30/30 [==============================] - 12s 419ms/step - loss: 3.2734 - accuracy: 0.5483 - val_loss: 2.8066 - val_accuracy: 0.5439\n",
      "Epoch 7/20\n",
      "30/30 [==============================] - 13s 422ms/step - loss: 2.3105 - accuracy: 0.5684 - val_loss: 1.9922 - val_accuracy: 0.5610\n",
      "Epoch 8/20\n",
      "30/30 [==============================] - 15s 495ms/step - loss: 1.6621 - accuracy: 0.5742 - val_loss: 1.4766 - val_accuracy: 0.5762\n",
      "Epoch 9/20\n",
      "30/30 [==============================] - 15s 496ms/step - loss: 1.2529 - accuracy: 0.5830 - val_loss: 1.1562 - val_accuracy: 0.5742\n",
      "Epoch 10/20\n",
      "30/30 [==============================] - 15s 494ms/step - loss: 1.0273 - accuracy: 0.5898 - val_loss: 0.9761 - val_accuracy: 0.5811\n",
      "Epoch 11/20\n",
      "30/30 [==============================] - 15s 493ms/step - loss: 0.8936 - accuracy: 0.5942 - val_loss: 0.8706 - val_accuracy: 0.5962\n",
      "Epoch 12/20\n",
      "30/30 [==============================] - 15s 491ms/step - loss: 0.8105 - accuracy: 0.6011 - val_loss: 0.8066 - val_accuracy: 0.6050\n",
      "Epoch 13/20\n",
      "30/30 [==============================] - 12s 415ms/step - loss: 0.7607 - accuracy: 0.6162 - val_loss: 0.7632 - val_accuracy: 0.6138\n",
      "Epoch 14/20\n",
      "30/30 [==============================] - 12s 413ms/step - loss: 0.7344 - accuracy: 0.6143 - val_loss: 0.7358 - val_accuracy: 0.6226\n",
      "Epoch 15/20\n",
      "30/30 [==============================] - 14s 488ms/step - loss: 0.7061 - accuracy: 0.6245 - val_loss: 0.7725 - val_accuracy: 0.5874\n",
      "Epoch 16/20\n",
      "30/30 [==============================] - 12s 411ms/step - loss: 0.6943 - accuracy: 0.6318 - val_loss: 0.7295 - val_accuracy: 0.6074\n",
      "Epoch 17/20\n",
      "30/30 [==============================] - 12s 412ms/step - loss: 0.6870 - accuracy: 0.6353 - val_loss: 0.7397 - val_accuracy: 0.6094\n",
      "Epoch 18/20\n",
      "30/30 [==============================] - 12s 411ms/step - loss: 0.6709 - accuracy: 0.6455 - val_loss: 0.7266 - val_accuracy: 0.6152\n",
      "Epoch 19/20\n",
      "30/30 [==============================] - 12s 412ms/step - loss: 0.6577 - accuracy: 0.6499 - val_loss: 0.7305 - val_accuracy: 0.6138\n",
      "Epoch 20/20\n",
      "30/30 [==============================] - 14s 488ms/step - loss: 0.6567 - accuracy: 0.6499 - val_loss: 0.6724 - val_accuracy: 0.6567\n"
     ]
    }
   ],
   "source": [
    "from tensorflow.keras.datasets import imdb\n",
    "(train_data, train_labels), _ = imdb.load_data(num_words=1000)\n",
    "\n",
    "def vectorize_sequences(sequences, dimension=1000):\n",
    "    results = np.zeros((len(sequences), dimension))\n",
    "    for i, sequence in enumerate(sequences):\n",
    "        results[i, sequence] = 1.\n",
    "    return results\n",
    "\n",
    "train_data = vectorize_sequences(train_data)\n",
    "\n",
    "model = keras.Sequential([\n",
    "    layers.Dense(16, activation=\"relu\"),\n",
    "    layers.Dense(16, activation=\"relu\"),\n",
    "    layers.Dense(1, activation=\"sigmoid\")\n",
    "])\n",
    "model.compile(optimizer=\"rmsprop\",\n",
    "              loss=\"binary_crossentropy\",\n",
    "              metrics=[ AccuracyMetric()])\n",
    "\n",
    "history_original = model.fit(train_data, train_labels,\n",
    "                             epochs=20, batch_size=512, validation_split=0.4)\n"
   ]
  },
  {
   "cell_type": "code",
   "execution_count": 30,
   "id": "e49dbeee",
   "metadata": {},
   "outputs": [
    {
     "data": {
      "image/png": "[encoded data removed]",
      "text/plain": [
       "<Figure size 432x288 with 1 Axes>"
      ]
     },
     "metadata": {
      "needs_background": "light"
     },
     "output_type": "display_data"
    }
   ],
   "source": [
    "import matplotlib.pyplot as plt\n",
    "val_acc = history_original.history[\"val_accuracy\"]\n",
    "\n",
    "epochs = range(10, 20)\n",
    "plt.plot(val_acc, \"b--\", label=\"validation accuracy\")\n",
    "plt.title(\" validation accuracy\")\n",
    "plt.xlabel(\"Epochs\")\n",
    "plt.ylabel(\"Accuracy\")\n",
    "plt.legend()\n",
    "plt.show()"
   ]
  },
  {
   "cell_type": "code",
   "execution_count": null,
   "id": "769118b8",
   "metadata": {},
   "outputs": [],
   "source": []
  }
 ],
 "metadata": {
  "kernelspec": {
   "display_name": "Python 3 (ipykernel)",
   "language": "python",
   "name": "python3"
  },
  "language_info": {
   "codemirror_mode": {
    "name": "ipython",
    "version": 3
   },
   "file_extension": ".py",
   "mimetype": "text/x-python",
   "name": "python",
   "nbconvert_exporter": "python",
   "pygments_lexer": "ipython3",
   "version": "3.9.7"
  }
 },
 "nbformat": 4,
 "nbformat_minor": 5
}
