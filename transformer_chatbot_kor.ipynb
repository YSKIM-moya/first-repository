{
 "cells": [
  {
   "cell_type": "code",
   "execution_count": 88,
   "id": "390fd3c5",
   "metadata": {},
   "outputs": [],
   "source": [
    "import tensorflow as tf\n",
    "import tensorflow_datasets as tfds\n",
    "import os\n",
    "import re\n",
    "import numpy as np\n",
    "import matplotlib.pyplot as plt"
   ]
  },
  {
   "cell_type": "markdown",
   "id": "5faa2b0e",
   "metadata": {},
   "source": [
    "## 데이타 전처리"
   ]
  },
  {
   "cell_type": "code",
   "execution_count": 89,
   "id": "4fb6594e",
   "metadata": {},
   "outputs": [],
   "source": [
    "\n",
    "#conversation_lines = os.path.join('~/aiffel/transformer_chatbot/data/ChatbotData.csv')\n",
    "conversation_lines = os.getenv('HOME')+'/aiffel/transformer_chatbot/data/ChatbotData.csv'\n"
   ]
  },
  {
   "cell_type": "code",
   "execution_count": 90,
   "id": "a2176a67",
   "metadata": {},
   "outputs": [],
   "source": [
    "import re\n",
    "\n",
    "# 전처리 함수\n",
    "def preprocess_sentence(sentence):\n",
    "\n",
    "  # 소문자화 & 공백 제거 (한국어는 대소문자 의미 없음, 하지만 영어 혼합 대비)\n",
    "  sentence = sentence.lower().strip()\n",
    "\n",
    "  # 단어와 구두점(punctuation) 사이의 거리를 만듭니다.\n",
    "  # 예를 들어서 \"I am a student.\" => \"I am a student .\"와 같이\n",
    "  # student와 온점 사이에 거리를 만듭니다.\n",
    "  sentence = re.sub(r\"([?.!,])\", r\" \\1 \", sentence)  # 구두점 앞뒤로 공백추가\n",
    " \n",
    "  # 허용된 문자 외 제거 (한글, 영어, 숫자, 구두점)\n",
    "  sentence = re.sub(r\"[^가-힣a-zA-Z0-9?.!,]+\", \" \", sentence)\n",
    "  \n",
    "  # 다중 공백 정리\n",
    "  sentence = re.sub(r'[\" \"]+', \" \", sentence)        # 여러개의 공백을 하나로\n",
    "  \n",
    "  return sentence"
   ]
  },
  {
   "cell_type": "code",
   "execution_count": 91,
   "id": "4a7e9009",
   "metadata": {},
   "outputs": [],
   "source": [
    "# 사용할 샘플의 최대 개수\n",
    "MAX_SAMPLES = 20000"
   ]
  },
  {
   "cell_type": "code",
   "execution_count": 92,
   "id": "d3525875",
   "metadata": {},
   "outputs": [],
   "source": [
    "# 샘플의 최대 허용 길이 또는 패딩 후의 최종 길이\n",
    "MAX_LENGTH = 40"
   ]
  },
  {
   "cell_type": "code",
   "execution_count": 93,
   "id": "4776b7fb",
   "metadata": {},
   "outputs": [],
   "source": [
    "# 질문과 답변의 쌍인 데이터셋을 구성하기 위한 데이터 로드 함수\n",
    "def load_conversations():\n",
    "\n",
    "  inputs, outputs = [], []\n",
    "  with open(conversation_lines, 'r') as file:\n",
    "    lines = file.readlines()\n",
    "    \n",
    "    # 첫 줄은 헤더니까 건너뜁니다\n",
    "    for line in lines[1:]:\n",
    "        parts = line.strip().split(',')\n",
    "        if len(parts) >= 2:\n",
    "            question, answer = parts[0], parts[1]\n",
    "            inputs.append(preprocess_sentence(question))\n",
    "            outputs.append(preprocess_sentence(answer))\n",
    "\n",
    "    if len(inputs) >= MAX_SAMPLES:\n",
    "        return inputs, outputs\n",
    "  return inputs, outputs\n"
   ]
  },
  {
   "cell_type": "code",
   "execution_count": 94,
   "id": "38dd1553",
   "metadata": {},
   "outputs": [],
   "source": [
    "# 질문과 답변의 쌍인 데이터셋을 구성하기 위한 데이터 로드 함수\n",
    "import csv\n",
    "\n",
    "def load_conversations_csv():\n",
    "\n",
    "  inputs, outputs = [], []\n",
    "  with open(conversation_lines, 'r') as file:\n",
    "        \n",
    "    reader = csv.reader(file)\n",
    "    next(reader)  # 첫 줄은 헤더이므로 건너뜀\n",
    "    \n",
    "    for row in reader:\n",
    "        if len(row) >= 2:\n",
    "            question, answer = row[0], row[1]\n",
    "            inputs.append(preprocess_sentence(question))\n",
    "            outputs.append(preprocess_sentence(answer))\n",
    "\n",
    "        if len(inputs) >= MAX_SAMPLES:\n",
    "            break\n",
    "        \n",
    "  \n",
    "  return inputs, outputs"
   ]
  },
  {
   "cell_type": "code",
   "execution_count": 95,
   "id": "fa724744",
   "metadata": {},
   "outputs": [
    {
     "name": "stdout",
     "output_type": "stream",
     "text": [
      "전체 샘플 수 : 11823\n",
      "전체 샘플 수 : 11823\n"
     ]
    }
   ],
   "source": [
    "# 데이터를 로드하고 전처리하여 질문을 questions, 답변을 answers에 저장합니다.\n",
    "questions, answers = load_conversations()\n",
    "print('전체 샘플 수 :', len(questions))\n",
    "print('전체 샘플 수 :', len(answers))"
   ]
  },
  {
   "cell_type": "code",
   "execution_count": 96,
   "id": "55911a69",
   "metadata": {},
   "outputs": [
    {
     "name": "stdout",
     "output_type": "stream",
     "text": [
      "전처리 후의 22번째 질문 샘플: 가스비 장난 아님\n",
      "전처리 후의 22번째 답변 샘플: 다음 달에는 더 절약해봐요 . \n"
     ]
    }
   ],
   "source": [
    "print('전처리 후의 22번째 질문 샘플: {}'.format(questions[21]))\n",
    "print('전처리 후의 22번째 답변 샘플: {}'.format(answers[21]))"
   ]
  },
  {
   "cell_type": "markdown",
   "id": "b790b467",
   "metadata": {},
   "source": [
    "**Subword Tokenizer**"
   ]
  },
  {
   "cell_type": "markdown",
   "id": "28272ead",
   "metadata": {},
   "source": [
    "1) TensorFlow Datasets SubwordTextEncoder 를 토크나이저로 사용한다.  \n",
    "    단어보다 더 작은 단위인 Subword를 기준으로 토크나이징하고,  각 토큰을 고유한 정수로 인코딩 한다.\n",
    "\n",
    "2) 각 문장을 토큰화하고 각 문장의 시작과 끝을 나타내는 START_TOKEN 및 END_TOKEN을 추가한다.\n",
    "\n",
    "3) 최대 길이 MAX_LENGTH 인 40을 넘는 문장들은 필터링한다.\n",
    "\n",
    "4) MAX_LENGTH보다 길이가 짧은 문장들은 40에 맞도록 패딩 한다."
   ]
  },
  {
   "cell_type": "code",
   "execution_count": 97,
   "id": "1bbe4c20",
   "metadata": {},
   "outputs": [],
   "source": [
    "import tensorflow_datasets as tfds\n",
    "\n",
    "\n",
    "# 질문과 답변 데이터셋에 대해서 Vocabulary 생성\n",
    "# 인자 : corpus = 문자열 리스트, target_vocab_size = 원하는 어휘 수\n",
    "tokenizer = tfds.deprecated.text.SubwordTextEncoder.build_from_corpus(questions + answers, target_vocab_size=2**13)\n"
   ]
  },
  {
   "cell_type": "code",
   "execution_count": 98,
   "id": "1f456198",
   "metadata": {},
   "outputs": [
    {
     "name": "stdout",
     "output_type": "stream",
     "text": [
      "START_TOKEN의 번호 : [8142]\n",
      "END_TOKEN의 번호 : [8143]\n",
      "8144\n"
     ]
    }
   ],
   "source": [
    "# 시작 토큰과 종료 토큰에 고유한 정수를 부여합니다.\n",
    "START_TOKEN, END_TOKEN = [tokenizer.vocab_size], [tokenizer.vocab_size + 1]\n",
    "\n",
    "print('START_TOKEN의 번호 :' ,[tokenizer.vocab_size])\n",
    "print('END_TOKEN의 번호 :' ,[tokenizer.vocab_size + 1])\n",
    "\n",
    "# 시작 토큰과 종료 토큰을 고려하여 +2를 하여 단어장의 크기를 산정합니다.\n",
    "VOCAB_SIZE = tokenizer.vocab_size + 2\n",
    "print(VOCAB_SIZE)"
   ]
  },
  {
   "cell_type": "code",
   "execution_count": 99,
   "id": "1a8be62c",
   "metadata": {},
   "outputs": [],
   "source": [
    "# 정수 인코딩, 최대 길이를 초과하는 샘플 제거, 패딩\n",
    "def tokenize_and_filter(inputs, outputs):\n",
    "  tokenized_inputs, tokenized_outputs = [], []\n",
    "  \n",
    "  for (sentence1, sentence2) in zip(inputs, outputs):\n",
    "    # 정수 인코딩 과정에서 시작 토큰과 종료 토큰을 추가\n",
    "    sentence1 = START_TOKEN + tokenizer.encode(sentence1) + END_TOKEN\n",
    "    sentence2 = START_TOKEN + tokenizer.encode(sentence2) + END_TOKEN\n",
    "\n",
    "    # 최대 길이 40 이하인 경우에만 데이터셋으로 허용\n",
    "    if len(sentence1) <= MAX_LENGTH and len(sentence2) <= MAX_LENGTH:\n",
    "      tokenized_inputs.append(sentence1)\n",
    "      tokenized_outputs.append(sentence2)\n",
    "  \n",
    "  # 최대 길이 40으로 모든 데이터셋을 패딩\n",
    "  tokenized_inputs = tf.keras.preprocessing.sequence.pad_sequences(\n",
    "      tokenized_inputs, maxlen=MAX_LENGTH, padding='post')\n",
    "  tokenized_outputs = tf.keras.preprocessing.sequence.pad_sequences(\n",
    "      tokenized_outputs, maxlen=MAX_LENGTH, padding='post')\n",
    "  \n",
    "  return tokenized_inputs, tokenized_outputs\n"
   ]
  },
  {
   "cell_type": "code",
   "execution_count": 100,
   "id": "6c09cd69",
   "metadata": {},
   "outputs": [
    {
     "name": "stdout",
     "output_type": "stream",
     "text": [
      "단어장의 크기 : 8144\n",
      "필터링 후의 질문 샘플 개수: 11823\n",
      "필터링 후의 답변 샘플 개수: 11823\n"
     ]
    }
   ],
   "source": [
    "questions, answers = tokenize_and_filter(questions, answers)\n",
    "print('단어장의 크기 :',(VOCAB_SIZE))\n",
    "print('필터링 후의 질문 샘플 개수: {}'.format(len(questions)))\n",
    "print('필터링 후의 답변 샘플 개수: {}'.format(len(answers)))"
   ]
  },
  {
   "cell_type": "code",
   "execution_count": 101,
   "id": "c475e3cb",
   "metadata": {},
   "outputs": [],
   "source": [
    "BATCH_SIZE = 64\n",
    "BUFFER_SIZE = 20000\n",
    "\n",
    "# 디코더는 이전의 target을 다음의 input으로 사용합니다.\n",
    "# 이에 따라 outputs에서는 START_TOKEN을 제거하겠습니다.\n",
    "dataset = tf.data.Dataset.from_tensor_slices((\n",
    "    {\n",
    "        'inputs': questions,\n",
    "        'dec_inputs': answers[:, :-1]  # 디코더 입력 (교사 강요용),  END_TOKEN 제거\n",
    "    },\n",
    "    {\n",
    "        'outputs': answers[:, 1:]      # 디코더 출력 (정답), START_TOKEN 제거\n",
    "    },\n",
    "))\n",
    "\n",
    "dataset = dataset.cache()                       # 메모리에 캐싱, 에포크가 반복될때 디스크 읽기/파싱 비용을 줄임\n",
    "dataset = dataset.shuffle(BUFFER_SIZE)          # 무작위로 섞지 않으면, 학습이 데이터 순서에 의존하게 되어 과적합 위험이 높아짐\n",
    "dataset = dataset.batch(BATCH_SIZE)             # 배치로 묶어서 모델에 한번에 전달\n",
    "dataset = dataset.prefetch(tf.data.experimental.AUTOTUNE) # GPU가 학습하는 동안 CPU가 다음 배치를 미리 준비\n"
   ]
  },
  {
   "cell_type": "markdown",
   "id": "84a2ba4a",
   "metadata": {},
   "source": [
    "## 공통 함수"
   ]
  },
  {
   "cell_type": "markdown",
   "id": "dfe01b7d",
   "metadata": {},
   "source": [
    "**포지셔널 인코딩 레이어**"
   ]
  },
  {
   "cell_type": "code",
   "execution_count": 102,
   "id": "321ea202",
   "metadata": {},
   "outputs": [],
   "source": [
    "# 포지셔널 인코딩 레이어\n",
    "# d_model : 임베딩 벡터의 차원,  각 단어 벡터의 차원 (예: 512)\n",
    "# position: 입력 문장에서의 임베딩 벡터의 위치, 시퀀스의 최대 길이 \n",
    "# i       : 임베딩 벡터 내의 차원의 인덱스를 의미\n",
    "class PositionalEncoding(tf.keras.layers.Layer):\n",
    "\n",
    "  def __init__(self, position, d_model):                                      # max_position length 만큼                          \n",
    "    super(PositionalEncoding, self).__init__()\n",
    "    self.pos_encoding = self.positional_encoding(position, d_model)           # 미리 전체 포지션 인코딩을 계산해서 저장\n",
    "\n",
    "  def get_angles(self, position, i, d_model):\n",
    "    angles = 1 / tf.pow(10000, (2 * (i // 2)) / tf.cast(d_model, tf.float32)) # 공식에 따라 포지션과 차원 인덱스에 따라 각도를 계산 \n",
    "    return position * angles\n",
    "\n",
    "  def positional_encoding(self, position, d_model):\n",
    "    # 각도 배열 생성\n",
    "    angle_rads = self.get_angles(\n",
    "        position=tf.range(position, dtype=tf.float32)[:, tf.newaxis],\n",
    "        i=tf.range(d_model, dtype=tf.float32)[tf.newaxis, :],\n",
    "        d_model=d_model)\n",
    "    # (position, 1) 열 벡터, (1, i(d_model)) 행 벡터\n",
    "    # 모든 위치와 모든 차원에ㅔ 대해 고유한  angle 값 계산\n",
    "    # angle_rads : (position, d_model)\n",
    "\n",
    "    # 배열의 짝수 인덱스에는 sin 함수 적용 (모든 position, d_model은 0부터 시작해서 2깐씩)\n",
    "    sines = tf.math.sin(angle_rads[:, 0::2])\n",
    "    # 배열의 홀수 인덱스에는 cosine 함수 적용 (1부터 시작해서 2깐씩)\n",
    "    cosines = tf.math.cos(angle_rads[:, 1::2])\n",
    "    # sines : (position, d_model/2)\n",
    "\n",
    "    # sin과 cosine이 교차되도록 재배열\n",
    "    pos_encoding = tf.stack([sines, cosines], axis=0)\n",
    "    # pos_encoding : (2, position, d_model/2)\n",
    "    pos_encoding = tf.transpose(pos_encoding,[1, 2, 0]) \n",
    "    # pos_encoding : (position, d_model/2, 2)\n",
    "    pos_encoding = tf.reshape(pos_encoding, [position, d_model])\n",
    "    # pos_encoding : (position, d_model)\n",
    "    # → sin/cos을 번갈아 interleave해서 (position, d_model)로 만드는 과정\n",
    "\n",
    "    pos_encoding = pos_encoding[tf.newaxis, ...]\n",
    "    # 배치 차원 추가 \n",
    "    # pos_encoding : (1, position, d_model)  → 여기서 1은 broadcast돼서 batch_size만큼 자동으로 복제됨\n",
    "    return tf.cast(pos_encoding, tf.float32)\n",
    "\n",
    "  def call(self, inputs):\n",
    "    # inputs : (batch_size, seq_len, d_model)\n",
    "    # self.pos_encoding : (1, max_position, d_model)\n",
    "    # inputs의 seq_len <= max_position\n",
    "    return inputs + self.pos_encoding[:, :tf.shape(inputs)[1], :]  # 입력 텐서에 위치 인코딩을 더해줌\n",
    "\n"
   ]
  },
  {
   "cell_type": "markdown",
   "id": "9d82ab48",
   "metadata": {},
   "source": [
    "**어텐션**"
   ]
  },
  {
   "cell_type": "markdown",
   "id": "c71d65e7",
   "metadata": {},
   "source": [
    "![Attention](./scaled_dot_prodect_attention.png)"
   ]
  },
  {
   "cell_type": "code",
   "execution_count": 103,
   "id": "abef2b53",
   "metadata": {},
   "outputs": [],
   "source": [
    "# 스케일드 닷 프로덕트 어텐션 함수\n",
    "def scaled_dot_product_attention(query, key, value, mask):\n",
    "  # 어텐션 가중치는 Q와 K의 닷 프로덕트\n",
    "\n",
    "  matmul_qk = tf.matmul(query, key, transpose_b=True)  # 행렬 곱셈(matrix multiplication), key를 transpose함\n",
    "  # Q: (batch_size, num_heads, seq_len_q, depth)\n",
    "  # K: (batch_size, num_heads, seq_len_k, depth)\n",
    "  # transpose : 마지막 2개 차원에 바뀜 \n",
    "  # K^T : (batch_size, num_heads, depth, seq_len_k)\n",
    "  # QK^T → shape: (batch_size, num_heads, seq_len_q, seq_len_k)\n",
    "\n",
    "  # 가중치를 정규화\n",
    "  # Q,K이 차원이 depth이고, depth가 커질수록 내적값도 커지므로, depth를 사용해서 scale을 줄여준다. \n",
    "  depth = tf.cast(tf.shape(key)[-1], tf.float32)       # key 마지막 차원의 크기를 float32로 변환 (부동소수점자료형)\n",
    "  logits = matmul_qk / tf.math.sqrt(depth)             # 차원수로 scaling하는 작업\n",
    "\n",
    "  # 패딩에 마스크 추가\n",
    "  # 마스크된 곳에는 아주 큰 마이너스 값으로 변경하여, 사용되지 않게.\n",
    "  if mask is not None:\n",
    "    logits += (mask * -1e9)\n",
    "\n",
    "  # softmax적용\n",
    "  attention_weights = tf.nn.softmax(logits, axis=-1)\n",
    "    \n",
    "  \n",
    "\n",
    "  # 최종 어텐션은 가중치와 V의 닷 프로덕트\n",
    "  output = tf.matmul(attention_weights, value)\n",
    "  # (seq_len_q, seq_len_k) @ (seq_len_k, depth) → (seq_len_q, depth)\n",
    "  # attention_logits  :  (batch_size, num_heads, seq_len_q, seq_len_k)\n",
    "  # V                 :  (batch_size, num_heads, seq_len_k, depth)\n",
    "  # output            :  (batch_size, num_heads, seq_len_q, depth)\n",
    "  return output\n",
    "\n"
   ]
  },
  {
   "cell_type": "code",
   "execution_count": 104,
   "id": "6458ed54",
   "metadata": {},
   "outputs": [],
   "source": [
    "class MultiHeadAttention(tf.keras.layers.Layer):\n",
    "\n",
    "  def __init__(self, d_model, num_heads, name=\"multi_head_attention\"):\n",
    "    super(MultiHeadAttention, self).__init__(name=name)\n",
    "    self.num_heads = num_heads\n",
    "    self.d_model = d_model\n",
    "\n",
    "    assert d_model % self.num_heads == 0\n",
    "\n",
    "    self.depth = d_model // self.num_heads\n",
    "\n",
    "    self.query_dense = tf.keras.layers.Dense(units=d_model)\n",
    "    self.key_dense = tf.keras.layers.Dense(units=d_model)\n",
    "    self.value_dense = tf.keras.layers.Dense(units=d_model)\n",
    "\n",
    "    self.dense = tf.keras.layers.Dense(units=d_model)\n",
    "\n",
    "  def split_heads(self, inputs, batch_size):\n",
    "    # d_model -> num_heads * depth \n",
    "    inputs = tf.reshape(\n",
    "        inputs, shape=(batch_size, -1, self.num_heads, self.depth)) # -1: 자동으로 그 크기를 맞춰라 (seq_len)\n",
    "    return tf.transpose(inputs, perm=[0, 2, 1, 3])                  # (batch_size, num_heads, seq_len, depth)\n",
    "\n",
    "  def call(self, inputs):\n",
    "    query, key, value, mask = inputs['query'], inputs['key'], inputs[\n",
    "        'value'], inputs['mask']\n",
    "    \n",
    "    # inputs.shape = [batch_size, seq_len, embedding_dim]\n",
    "    batch_size = tf.shape(query)[0]\n",
    "\n",
    "    # Q, K, V에 각각 Dense를 적용합니다\n",
    "    # (batch_size, seq_len, embedding_dim)\n",
    "    query = self.query_dense(query)\n",
    "    key = self.key_dense(key)\n",
    "    value = self.value_dense(value)\n",
    "\n",
    "    # 병렬 연산을 위한 머리를 여러 개 만듭니다\n",
    "    # (batch_size, num_heads, seq_len, projection_dim(depth))\n",
    "    query = self.split_heads(query, batch_size)\n",
    "    key = self.split_heads(key, batch_size)\n",
    "    value = self.split_heads(value, batch_size)\n",
    "\n",
    "    # 스케일드 닷 프로덕트 어텐션 함수\n",
    "    scaled_attention = scaled_dot_product_attention(query, key, value, mask)\n",
    "    # shape : (batch_size, num_heads, seq_len_q, projection_dim)\n",
    "    scaled_attention = tf.transpose(scaled_attention, perm=[0, 2, 1, 3])\n",
    "    # concat을 하려고 shape를 바꿈 : (batch_size, seq_len_q, num_heads, projection_dim(depth))\n",
    "\n",
    "    # 어텐션 연산 후에 각 결과를 다시 연결(concatenate)합니다 (num_heads * depth -> d_model)\n",
    "    # (batch_size, seq_len, embedding_dim)\n",
    "    concat_attention = tf.reshape(scaled_attention,\n",
    "                                  (batch_size, -1, self.d_model))\n",
    "\n",
    "    # 최종 결과에도 Dense를 한 번 더 적용합니다\n",
    "    outputs = self.dense(concat_attention)\n",
    "\n",
    "    return outputs\n"
   ]
  },
  {
   "cell_type": "markdown",
   "id": "5e21e7aa",
   "metadata": {},
   "source": [
    "**패딩 마스크**"
   ]
  },
  {
   "cell_type": "code",
   "execution_count": 105,
   "id": "997c7a96",
   "metadata": {},
   "outputs": [],
   "source": [
    "#모델이 의미 없는 패딩 토큰에 주의를 빼앗기지 않도록 하기 위해 **마스킹(masking)**을 한다.\n",
    "def create_padding_mask(x):\n",
    "  mask = tf.cast(tf.math.equal(x, 0), tf.float32)   # [7, 6, 0, 0, 0] → [False, False, True, True, True]\n",
    "                                                    # Boolen 값을 float32로 변경 → [0.0, 0.0, 1.0, 1.0, 1.0]\n",
    "  # (batch_size, 1, 1, sequence length_k)\n",
    "  return mask[:, tf.newaxis, tf.newaxis, :]         # 차원을 확장해서, 어덴션 스코어와 잘 계산되게 맞추어줌"
   ]
  },
  {
   "cell_type": "code",
   "execution_count": 106,
   "id": "242b4b8c",
   "metadata": {},
   "outputs": [],
   "source": [
    "#print(create_padding_mask(tf.constant([[1, 2, 0, 3, 0], [0, 0, 0, 4, 5]])))"
   ]
  },
  {
   "cell_type": "markdown",
   "id": "78a9c1f4",
   "metadata": {},
   "source": [
    "**룩 어헤드 마스킹(Look-ahead masking, 다음 단어 가리기)**"
   ]
  },
  {
   "cell_type": "code",
   "execution_count": 107,
   "id": "2b7869f1",
   "metadata": {},
   "outputs": [],
   "source": [
    "def create_look_ahead_mask(x):\n",
    "  # (batch_size, seq_len, dim)\n",
    "  seq_len = tf.shape(x)[1]\n",
    "  \n",
    "  # tf.ones((seq_len, seq_len)) : (seq_len, seq_len)인 모든 원소가 1인 텐서\n",
    "    #  [[1, 1, 1],\n",
    "    #   [1, 1, 1],\n",
    "    #   [1, 1, 1]]\n",
    "  # tf.linalg.band_part ( input, num_lower, num_upper) : 행렬의 밴드부분만 남기고 나머지는 0으로 \n",
    "  # 하삼각 행렬(lower triangular matrix)을 생성\n",
    "    #  [[1, 0, 0],\n",
    "    #   [1, 1, 0],\n",
    "    #   [1, 1, 1]]\n",
    "  # mask = 1 - 하삼각 행렬  (자신보다 뒤에 있는 토큰에 1을 설정하는 마스크 )\n",
    "    #  [[0, 1, 1],\n",
    "    #   [0, 0, 1],\n",
    "    #   [0, 0, 0]]\n",
    "  look_ahead_mask = 1 - tf.linalg.band_part(tf.ones((seq_len, seq_len)), -1, 0)\n",
    " \n",
    "    \n",
    "  padding_mask = create_padding_mask(x)\n",
    "  # (batch_size, 1, 1, sequence length_k)\n",
    "\n",
    "  return tf.maximum(look_ahead_mask, padding_mask) # 내자신 이후도 보지 말고, 패딩도 보지 말라\n",
    "  # tf.maximum (a, b) : a, b는 같은 shape이거나, 브로드캐스트가 가능한 shape"
   ]
  },
  {
   "cell_type": "code",
   "execution_count": 108,
   "id": "33517159",
   "metadata": {},
   "outputs": [],
   "source": [
    "#print(create_look_ahead_mask(tf.constant([[1, 2, 3, 4, 5]])))"
   ]
  },
  {
   "cell_type": "code",
   "execution_count": 109,
   "id": "c0ccd687",
   "metadata": {},
   "outputs": [],
   "source": [
    "#print(create_look_ahead_mask(tf.constant([[0, 5, 1, 5, 5]])))"
   ]
  },
  {
   "cell_type": "markdown",
   "id": "f31e6cb3",
   "metadata": {},
   "source": [
    "## 인코더"
   ]
  },
  {
   "cell_type": "markdown",
   "id": "02824f66",
   "metadata": {},
   "source": [
    "**인코더층**"
   ]
  },
  {
   "cell_type": "code",
   "execution_count": 110,
   "id": "c4f3055a",
   "metadata": {},
   "outputs": [],
   "source": [
    "# 인코더 하나의 레이어를 함수로 구현.\n",
    "# 이 하나의 레이어 안에는 두 개의 서브 레이어가 존재합니다.\n",
    "  # units : FFN의 내부 유닛 수\n",
    "  # d_model : 임베딩 차원\n",
    "  # num_heads : 멀티헤드 어센션의 헤드 개수\n",
    "def encoder_layer(units, d_model, num_heads, dropout, name=\"encoder_layer\"):\n",
    "  inputs = tf.keras.Input(shape=(None, d_model), name=\"inputs\")\n",
    "\n",
    "  # 패딩 마스크 사용\n",
    "  padding_mask = tf.keras.Input(shape=(1, 1, None), name=\"padding_mask\")\n",
    " # padding_mask.shape = (batch_size, 1, 1, seq_len_k)\n",
    " # attention_logits.shape = (batch_size, num_heads, seq_len_q, seq_len_k)\n",
    "\n",
    "  # 첫 번째 서브 레이어 : 멀티 헤드 어텐션 수행 (셀프 어텐션)\n",
    "  attention = MultiHeadAttention(\n",
    "      d_model, num_heads, name=\"attention\")({\n",
    "          'query': inputs,\n",
    "          'key': inputs,\n",
    "          'value': inputs,\n",
    "          'mask': padding_mask\n",
    "      })\n",
    "\n",
    "  # 어텐션의 결과는 Dropout과 Layer Normalization이라는 훈련을 돕는 테크닉을 수행\n",
    "  attention = tf.keras.layers.Dropout(rate=dropout)(attention)\n",
    "  attention = tf.keras.layers.LayerNormalization(\n",
    "      epsilon=1e-6)(inputs + attention)\n",
    "\n",
    "  # 두 번째 서브 레이어 : 2개의 완전연결층\n",
    "  outputs = tf.keras.layers.Dense(units=units, activation='relu')(attention)\n",
    "  outputs = tf.keras.layers.Dense(units=d_model)(outputs)\n",
    "\n",
    "  # 완전연결층의 결과는 Dropout과 LayerNormalization이라는 훈련을 돕는 테크닉을 수행\n",
    "  outputs = tf.keras.layers.Dropout(rate=dropout)(outputs)\n",
    "  outputs = tf.keras.layers.LayerNormalization(\n",
    "      epsilon=1e-6)(attention + outputs)\n",
    "\n",
    "  return tf.keras.Model(\n",
    "      inputs=[inputs, padding_mask], outputs=outputs, name=name)\n"
   ]
  },
  {
   "cell_type": "markdown",
   "id": "3fa29207",
   "metadata": {},
   "source": [
    "**인코더**"
   ]
  },
  {
   "cell_type": "code",
   "execution_count": 111,
   "id": "88bf836b",
   "metadata": {},
   "outputs": [],
   "source": [
    "def encoder(vocab_size,\n",
    "            num_layers,\n",
    "            units,\n",
    "            d_model,\n",
    "            num_heads,\n",
    "            dropout,\n",
    "            name=\"encoder\"):\n",
    "  inputs = tf.keras.Input(shape=(None,), name=\"inputs\")\n",
    "\n",
    "  # 패딩 마스크 사용\n",
    "  padding_mask = tf.keras.Input(shape=(1, 1, None), name=\"padding_mask\")\n",
    "  \n",
    "\n",
    "  # 임베딩 레이어\n",
    "  embeddings = tf.keras.layers.Embedding(vocab_size, d_model)(inputs)\n",
    "  embeddings *= tf.math.sqrt(tf.cast(d_model, tf.float32))\n",
    "\n",
    "  # 포지셔널 인코딩\n",
    "  # embeddings = PositionalEncoding(vocab_size, d_model)(embeddings)\n",
    "  embeddings = PositionalEncoding(MAX_LENGTH, d_model)(embeddings)\n",
    "\n",
    "  outputs = tf.keras.layers.Dropout(rate=dropout)(embeddings)\n",
    "\n",
    "  # num_layers만큼 쌓아올린 인코더의 층.\n",
    "  for i in range(num_layers):\n",
    "    outputs = encoder_layer(\n",
    "        units=units,\n",
    "        d_model=d_model,\n",
    "        num_heads=num_heads,\n",
    "        dropout=dropout,\n",
    "        name=\"encoder_layer_{}\".format(i),\n",
    "    )([outputs, padding_mask])\n",
    "\n",
    "  return tf.keras.Model(\n",
    "      inputs=[inputs, padding_mask], outputs=outputs, name=name)\n"
   ]
  },
  {
   "cell_type": "markdown",
   "id": "85e38993",
   "metadata": {},
   "source": [
    "## 디코더"
   ]
  },
  {
   "cell_type": "markdown",
   "id": "806b3211",
   "metadata": {},
   "source": [
    "**디코더층**"
   ]
  },
  {
   "cell_type": "code",
   "execution_count": 112,
   "id": "95652150",
   "metadata": {},
   "outputs": [],
   "source": [
    "# 디코더 하나의 레이어를 함수로 구현.\n",
    "# 이 하나의 레이어 안에는 세 개의 서브 레이어가 존재합니다.\n",
    "  # units : FFN의 내부 유닛 수\n",
    "  # d_model : 임베딩 차원\n",
    "  # num_heads : 멀티헤드 어센션의 헤드 개수\n",
    "def decoder_layer(units, d_model, num_heads, dropout, name=\"decoder_layer\"):\n",
    "  inputs = tf.keras.Input(shape=(None, d_model), name=\"inputs\")\n",
    "  enc_outputs = tf.keras.Input(shape=(None, d_model), name=\"encoder_outputs\")\n",
    "    \n",
    "  look_ahead_mask = tf.keras.Input(\n",
    "      shape=(1, None, None), name=\"look_ahead_mask\")\n",
    "  # look_ahead_mask.shape = (batch_size, 1, seq_len_q, seq_len_k)\n",
    "  # batch_size는 Keras Input에서 None으로 자동 처리\n",
    "  # 1 → num_heads 차원에 broadcasting 가능\n",
    "  # 모든 헤드에 동일한 마스크를 적용하면서도 시퀀스 길이에 따라 다르게 작동\n",
    "  # shape=(1, None, None)은 멀티헤드 어텐션에 자연스럽게 마스크를 덧붙일 수 있게 하기 위한 브로드캐스트 설계\n",
    "\n",
    "  padding_mask = tf.keras.Input(shape=(1, 1, None), name='padding_mask')\n",
    "  # padding_mask.shape = (batch_size, 1, 1, seq_len_k)\n",
    "  # 1 → num_heads 차원에 broadcasting 가능\n",
    "  # 1 → seq_len_q에 대해 모든 쿼리에 동일한 마스크 적용\n",
    "\n",
    "  # 첫 번째 서브 레이어 : 마스크드 멀티 헤드 어텐션 수행 (셀프 어텐션)\n",
    "  attention1 = MultiHeadAttention(\n",
    "      d_model, num_heads, name=\"attention_1\")(inputs={\n",
    "          'query': inputs,\n",
    "          'key': inputs,\n",
    "          'value': inputs,\n",
    "          'mask': look_ahead_mask\n",
    "      })\n",
    "\n",
    "  # 멀티 헤드 어텐션의 결과는 LayerNormalization이라는 훈련을 돕는 테크닉을 수행\n",
    "  attention1 = tf.keras.layers.LayerNormalization(\n",
    "      epsilon=1e-6)(attention1 + inputs)\n",
    "\n",
    "  # 두 번째 서브 레이어 : 멀티 헤드 어텐션 수행 (인코더-디코더 어텐션)\n",
    "  attention2 = MultiHeadAttention(\n",
    "      d_model, num_heads, name=\"attention_2\")(inputs={\n",
    "          'query': attention1,\n",
    "          'key': enc_outputs,\n",
    "          'value': enc_outputs,\n",
    "          'mask': padding_mask\n",
    "      })\n",
    "\n",
    "  # 멀티 헤드 어텐션의 결과는\n",
    "  # Dropout과 LayerNormalization이라는 훈련을 돕는 테크닉을 수행\n",
    "  attention2 = tf.keras.layers.Dropout(rate=dropout)(attention2)\n",
    "  attention2 = tf.keras.layers.LayerNormalization(\n",
    "      epsilon=1e-6)(attention2 + attention1)\n",
    "\n",
    "  # 세 번째 서브 레이어 : 2개의 완전연결층\n",
    "  outputs = tf.keras.layers.Dense(units=units, activation='relu')(attention2)\n",
    "  outputs = tf.keras.layers.Dense(units=d_model)(outputs)\n",
    "\n",
    "  # 완전연결층의 결과는 Dropout과 LayerNormalization 수행\n",
    "  outputs = tf.keras.layers.Dropout(rate=dropout)(outputs)\n",
    "  outputs = tf.keras.layers.LayerNormalization(\n",
    "      epsilon=1e-6)(outputs + attention2)\n",
    "\n",
    "  return tf.keras.Model(\n",
    "      inputs=[inputs, enc_outputs, look_ahead_mask, padding_mask],\n",
    "      outputs=outputs,\n",
    "      name=name)\n"
   ]
  },
  {
   "cell_type": "markdown",
   "id": "efa5b3e2",
   "metadata": {},
   "source": [
    "**디코더**"
   ]
  },
  {
   "cell_type": "code",
   "execution_count": 113,
   "id": "95286e8d",
   "metadata": {},
   "outputs": [],
   "source": [
    "def decoder(vocab_size,\n",
    "            num_layers,\n",
    "            units,\n",
    "            d_model,\n",
    "            num_heads,\n",
    "            dropout,\n",
    "            name='decoder'):\n",
    "  inputs = tf.keras.Input(shape=(None,), name='inputs')\n",
    "  enc_outputs = tf.keras.Input(shape=(None, d_model), name='encoder_outputs')\n",
    "  look_ahead_mask = tf.keras.Input(\n",
    "      shape=(1, None, None), name='look_ahead_mask')\n",
    "\n",
    "  # 패딩 마스크\n",
    "  padding_mask = tf.keras.Input(shape=(1, 1, None), name='padding_mask')\n",
    "  \n",
    "  # 임베딩 레이어\n",
    "  embeddings = tf.keras.layers.Embedding(vocab_size, d_model)(inputs)\n",
    "  # shape: (batch_size, seq_len, d_model)\n",
    "  embeddings *= tf.math.sqrt(tf.cast(d_model, tf.float32))\n",
    "  # 스케일을 키운다 -> 벡터의 값을 약간 더 강하게 만들기 위한 정규화 효과 \n",
    "  # 1) 초기 어덴션 스코어가 너무 작아지지 않도록 : 임베딩 값이 작으면 → QKᵀ의 값도 작아짐 → Softmax가 평평해지고, 학습이 느려짐\n",
    "  # 2) 어텐션 연산에서 Q, K, V의 스케일과 맞춰주기 위함 : 어텐션에서는 QKᵀ / √d_k로 나누니까, 임베딩은 * √d_model로 곱해 균형을 맞춤\n",
    "\n",
    "  # 포지셔널 인코딩\n",
    "  # pos_embeddings = PositionalEncoding(vocab_size, d_model)(embeddings)\n",
    "  pos_embeddings = PositionalEncoding(MAX_LENGTH, d_model)(embeddings)\n",
    "\n",
    "  # Dropout이라는 훈련을 돕는 테크닉을 수행\n",
    "  outputs = tf.keras.layers.Dropout(rate=dropout)(pos_embeddings)\n",
    "\n",
    "  for i in range(num_layers):\n",
    "    outputs = decoder_layer(\n",
    "        units=units,\n",
    "        d_model=d_model,\n",
    "        num_heads=num_heads,\n",
    "        dropout=dropout,\n",
    "        name='decoder_layer_{}'.format(i),\n",
    "    )(inputs=[outputs, enc_outputs, look_ahead_mask, padding_mask])\n",
    "\n",
    "  return tf.keras.Model(\n",
    "      inputs=[inputs, enc_outputs, look_ahead_mask, padding_mask],\n",
    "      outputs=outputs,\n",
    "      name=name)\n"
   ]
  },
  {
   "cell_type": "markdown",
   "id": "c314f7fe",
   "metadata": {},
   "source": [
    "## 모델 정의 및 학습하기"
   ]
  },
  {
   "cell_type": "code",
   "execution_count": 114,
   "id": "23404527",
   "metadata": {},
   "outputs": [],
   "source": [
    "def transformer(vocab_size,\n",
    "                num_layers,\n",
    "                units,\n",
    "                d_model,\n",
    "                num_heads,\n",
    "                dropout,\n",
    "                name=\"transformer\"):\n",
    "  inputs = tf.keras.Input(shape=(None,), name=\"inputs\")\n",
    "  dec_inputs = tf.keras.Input(shape=(None,), name=\"dec_inputs\")\n",
    "\n",
    "  # 인코더에서 패딩을 위한 마스크\n",
    "  enc_padding_mask = tf.keras.layers.Lambda(\n",
    "      create_padding_mask, output_shape=(1, 1, None),\n",
    "      name='enc_padding_mask')(inputs)\n",
    "\n",
    "  # 디코더에서 미래의 토큰을 마스크 하기 위해서 사용합니다.\n",
    "  # 내부적으로 패딩 마스크도 포함되어져 있습니다.\n",
    "  look_ahead_mask = tf.keras.layers.Lambda(\n",
    "      create_look_ahead_mask,\n",
    "      output_shape=(1, None, None),\n",
    "      name='look_ahead_mask')(dec_inputs)\n",
    "\n",
    "  # 두 번째 어텐션 블록에서 인코더의 벡터들을 마스킹\n",
    "  # 디코더에서 패딩을 위한 마스크\n",
    "  dec_padding_mask = tf.keras.layers.Lambda(\n",
    "      create_padding_mask, output_shape=(1, 1, None),\n",
    "      name='dec_padding_mask')(inputs)\n",
    "\n",
    "  # 인코더\n",
    "  enc_outputs = encoder(\n",
    "      vocab_size=vocab_size,\n",
    "      num_layers=num_layers,\n",
    "      units=units,\n",
    "      d_model=d_model,\n",
    "      num_heads=num_heads,\n",
    "      dropout=dropout,\n",
    "  )(inputs=[inputs, enc_padding_mask])\n",
    "\n",
    "  # 디코더\n",
    "  dec_outputs = decoder(\n",
    "      vocab_size=vocab_size,\n",
    "      num_layers=num_layers,\n",
    "      units=units,\n",
    "      d_model=d_model,\n",
    "      num_heads=num_heads,\n",
    "      dropout=dropout,\n",
    "  )(inputs=[dec_inputs, enc_outputs, look_ahead_mask, dec_padding_mask])\n",
    "\n",
    "  # 완전연결층\n",
    "  outputs = tf.keras.layers.Dense(units=vocab_size, name=\"outputs\")(dec_outputs)\n",
    "\n",
    "  return tf.keras.Model(inputs=[inputs, dec_inputs], outputs=outputs, name=name)\n"
   ]
  },
  {
   "cell_type": "markdown",
   "id": "1648c791",
   "metadata": {},
   "source": [
    "**손실함수**"
   ]
  },
  {
   "cell_type": "code",
   "execution_count": 115,
   "id": "207f8d55",
   "metadata": {},
   "outputs": [],
   "source": [
    "#레이블인 시퀀스에 패딩이 되어 있으므로, loss를 계산할 때 패딩 마스크를 적용해야한다\n",
    "def loss_function(y_true, y_pred):\n",
    "  y_true = tf.reshape(y_true, shape=(-1, MAX_LENGTH - 1)) \n",
    "  # y_true : (batch_size, seq_len)\n",
    "  # -1 : 남은 차원은 알아서 계산\n",
    "  # seq : MAX_LENGTH - 1인 이유는 → 디코더의 정답 시퀀스는 보통 <start> 토큰 제거한 상태\n",
    "  \n",
    "  loss = tf.keras.losses.SparseCategoricalCrossentropy(\n",
    "      from_logits=True, reduction='none')(y_true, y_pred)\n",
    "    # from_logits=True: y_pred가 softmax 되기 전 값 (logits : softmax를 거치기 직전값)이기 때문\n",
    "    # → 손실 함수 내부에서 softmax를 자동으로 처리\n",
    "    # reduction='none': 손실을 일괄 평균하지 않고, 토큰마다 개별 손실 계산\n",
    "    # → 나중에 마스크를 씌워서 패딩 위치 손실은 제거할 수 있게 함\n",
    "\n",
    "  mask = tf.cast(tf.not_equal(y_true, 0), tf.float32)\n",
    "  loss = tf.multiply(loss, mask)\n",
    "    # y_true == 0인 위치는 패딩이므로 손실에서 제외. 그래서 0인 위치는 0, 나머지는 1인 마스크 생성\n",
    "\n",
    "  return tf.reduce_mean(loss)\n"
   ]
  },
  {
   "cell_type": "markdown",
   "id": "e37bfcf3",
   "metadata": {},
   "source": [
    "**Custom Learning rate Scheduling**"
   ]
  },
  {
   "cell_type": "code",
   "execution_count": 116,
   "id": "c71f854b",
   "metadata": {},
   "outputs": [],
   "source": [
    "# 초기엔 학습률을 점점 올리고, 그 후엔 학습률을 점점 낮추는 방식\n",
    "class CustomSchedule(tf.keras.optimizers.schedules.LearningRateSchedule):\n",
    "\n",
    "  def __init__(self, d_model, warmup_steps=4000):\n",
    "    super(CustomSchedule, self).__init__()\n",
    "\n",
    "    self.d_model = d_model\n",
    "    self.d_model = tf.cast(self.d_model, tf.float32)\n",
    "\n",
    "    self.warmup_steps = warmup_steps                    # warmup_steps: 학습률을 올리는 단계 수\n",
    "\n",
    "  def __call__(self, step):\n",
    "    arg1 = tf.math.rsqrt(step)\n",
    "    arg2 = step * (self.warmup_steps**-1.5)\n",
    "\n",
    "    return tf.math.rsqrt(self.d_model) * tf.math.minimum(arg1, arg2)\n"
   ]
  },
  {
   "cell_type": "code",
   "execution_count": 117,
   "id": "36cabb43",
   "metadata": {},
   "outputs": [
    {
     "data": {
      "text/plain": [
       "Text(0.5, 0, 'Train Step')"
      ]
     },
     "execution_count": 117,
     "metadata": {},
     "output_type": "execute_result"
    },
    {
     "data": {
      "image/png": "[encoded data removed]",
      "text/plain": [
       "<Figure size 432x288 with 1 Axes>"
      ]
     },
     "metadata": {
      "needs_background": "light"
     },
     "output_type": "display_data"
    }
   ],
   "source": [
    "sample_learning_rate = CustomSchedule(d_model=128)\n",
    "\n",
    "plt.plot(sample_learning_rate(tf.range(200000, dtype=tf.float32)))\n",
    "plt.ylabel(\"Learning Rate\")\n",
    "plt.xlabel(\"Train Step\")"
   ]
  },
  {
   "cell_type": "markdown",
   "id": "810a94d3",
   "metadata": {},
   "source": [
    "**1. 모델 컴파일  및 훈련(Layer=2, D_MODEL=256)**"
   ]
  },
  {
   "cell_type": "code",
   "execution_count": 118,
   "id": "5afbd238",
   "metadata": {},
   "outputs": [],
   "source": [
    "from tensorflow.keras.callbacks import EarlyStopping\n",
    "\n",
    "early_stop = EarlyStopping(\n",
    "    monitor='accuracy',     # 모니터링 대상\n",
    "    patience=3,             # 개선 없으면 몇 epoch 후에 멈출지\n",
    "    restore_best_weights=True,  # 가장 성능 좋았던 가중치를 복원할지 여부\n",
    "    verbose=1\n",
    ")"
   ]
  },
  {
   "cell_type": "code",
   "execution_count": 119,
   "id": "169f63da",
   "metadata": {},
   "outputs": [
    {
     "name": "stdout",
     "output_type": "stream",
     "text": [
      "Model: \"transformer\"\n",
      "__________________________________________________________________________________________________\n",
      "Layer (type)                    Output Shape         Param #     Connected to                     \n",
      "==================================================================================================\n",
      "inputs (InputLayer)             [(None, None)]       0                                            \n",
      "__________________________________________________________________________________________________\n",
      "dec_inputs (InputLayer)         [(None, None)]       0                                            \n",
      "__________________________________________________________________________________________________\n",
      "enc_padding_mask (Lambda)       (None, 1, 1, None)   0           inputs[0][0]                     \n",
      "__________________________________________________________________________________________________\n",
      "encoder (Functional)            (None, None, 256)    3139072     inputs[0][0]                     \n",
      "                                                                 enc_padding_mask[0][0]           \n",
      "__________________________________________________________________________________________________\n",
      "look_ahead_mask (Lambda)        (None, 1, None, None 0           dec_inputs[0][0]                 \n",
      "__________________________________________________________________________________________________\n",
      "dec_padding_mask (Lambda)       (None, 1, 1, None)   0           inputs[0][0]                     \n",
      "__________________________________________________________________________________________________\n",
      "decoder (Functional)            (None, None, 256)    3666432     dec_inputs[0][0]                 \n",
      "                                                                 encoder[0][0]                    \n",
      "                                                                 look_ahead_mask[0][0]            \n",
      "                                                                 dec_padding_mask[0][0]           \n",
      "__________________________________________________________________________________________________\n",
      "outputs (Dense)                 (None, None, 8144)   2093008     decoder[0][0]                    \n",
      "==================================================================================================\n",
      "Total params: 8,898,512\n",
      "Trainable params: 8,898,512\n",
      "Non-trainable params: 0\n",
      "__________________________________________________________________________________________________\n"
     ]
    }
   ],
   "source": [
    "tf.keras.backend.clear_session() # TensorFlow에서 메모리 관리와 관련된 문제를 방지하기 위해 사용하는 함수\n",
    "                                 # Keras의 전역 상태(예: 모델, 레이어, 그래프 등)를 초기화해서 메모리를 정리\n",
    "\n",
    "# 하이퍼파라미터\n",
    "NUM_LAYERS = 2 # 인코더와 디코더의 층의 개수  ( 논문 6->2)\n",
    "D_MODEL = 256 # 인코더와 디코더 내부의 입, 출력의 고정 차원  (논문 512 -> 256)\n",
    "NUM_HEADS = 8 # 멀티 헤드 어텐션에서의 헤드 수 \n",
    "UNITS = 512 # 피드 포워드 신경망의 은닉층의 크기\n",
    "DROPOUT = 0.1 # 드롭아웃의 비율\n",
    "\n",
    "model_1 = transformer(\n",
    "    vocab_size=VOCAB_SIZE,\n",
    "    num_layers=NUM_LAYERS,\n",
    "    units=UNITS,\n",
    "    d_model=D_MODEL,\n",
    "    num_heads=NUM_HEADS,\n",
    "    dropout=DROPOUT)\n",
    "\n",
    "model_1.summary()"
   ]
  },
  {
   "cell_type": "code",
   "execution_count": 120,
   "id": "409c74ea",
   "metadata": {},
   "outputs": [],
   "source": [
    "learning_rate = CustomSchedule(D_MODEL)\n",
    "\n",
    "optimizer = tf.keras.optimizers.Adam(\n",
    "    learning_rate, beta_1=0.9, beta_2=0.98, epsilon=1e-9)\n",
    "\n",
    "def accuracy(y_true, y_pred):\n",
    "  y_true = tf.reshape(y_true, shape=(-1, MAX_LENGTH - 1))\n",
    "  return tf.keras.metrics.sparse_categorical_accuracy(y_true, y_pred)\n",
    "\n",
    "model_1.compile(optimizer=optimizer, loss=loss_function, metrics=[accuracy])\n"
   ]
  },
  {
   "cell_type": "code",
   "execution_count": 144,
   "id": "fdcc667d",
   "metadata": {},
   "outputs": [
    {
     "name": "stdout",
     "output_type": "stream",
     "text": [
      "Epoch 1/50\n",
      "185/185 [==============================] - 10s 54ms/step - loss: 0.0035 - accuracy: 0.1734\n",
      "Epoch 2/50\n",
      "185/185 [==============================] - 10s 54ms/step - loss: 0.0037 - accuracy: 0.1734\n",
      "Epoch 3/50\n",
      "185/185 [==============================] - 10s 55ms/step - loss: 0.0034 - accuracy: 0.1734\n",
      "Epoch 4/50\n",
      "185/185 [==============================] - 10s 56ms/step - loss: 0.0035 - accuracy: 0.1734\n",
      "Epoch 5/50\n",
      "185/185 [==============================] - 10s 56ms/step - loss: 0.0034 - accuracy: 0.1734\n",
      "Epoch 6/50\n",
      "185/185 [==============================] - 10s 56ms/step - loss: 0.0033 - accuracy: 0.1734\n",
      "Epoch 7/50\n",
      "185/185 [==============================] - 10s 55ms/step - loss: 0.0029 - accuracy: 0.1735\n",
      "Epoch 8/50\n",
      "185/185 [==============================] - 10s 55ms/step - loss: 0.0032 - accuracy: 0.1735\n",
      "Epoch 9/50\n",
      "185/185 [==============================] - 10s 55ms/step - loss: 0.0033 - accuracy: 0.1734\n",
      "Epoch 10/50\n",
      "185/185 [==============================] - 10s 55ms/step - loss: 0.0031 - accuracy: 0.1734\n",
      "Epoch 11/50\n",
      "185/185 [==============================] - 10s 55ms/step - loss: 0.0029 - accuracy: 0.1735\n",
      "Epoch 12/50\n",
      "185/185 [==============================] - 10s 55ms/step - loss: 0.0028 - accuracy: 0.1735\n",
      "Epoch 13/50\n",
      "185/185 [==============================] - 10s 56ms/step - loss: 0.0030 - accuracy: 0.1735\n",
      "Epoch 14/50\n",
      "185/185 [==============================] - 10s 56ms/step - loss: 0.0029 - accuracy: 0.1736\n",
      "Epoch 15/50\n",
      "185/185 [==============================] - 10s 56ms/step - loss: 0.0027 - accuracy: 0.1736\n",
      "Epoch 16/50\n",
      "185/185 [==============================] - 10s 55ms/step - loss: 0.0028 - accuracy: 0.1735\n",
      "Epoch 17/50\n",
      "185/185 [==============================] - 10s 55ms/step - loss: 0.0026 - accuracy: 0.1736\n",
      "Epoch 18/50\n",
      "185/185 [==============================] - 10s 55ms/step - loss: 0.0026 - accuracy: 0.1735\n",
      "Epoch 19/50\n",
      "185/185 [==============================] - 10s 55ms/step - loss: 0.0025 - accuracy: 0.1736\n",
      "Epoch 20/50\n",
      "185/185 [==============================] - 10s 55ms/step - loss: 0.0028 - accuracy: 0.1735\n",
      "Epoch 21/50\n",
      "185/185 [==============================] - 10s 55ms/step - loss: 0.0024 - accuracy: 0.1736\n",
      "Epoch 22/50\n",
      "185/185 [==============================] - 10s 55ms/step - loss: 0.0023 - accuracy: 0.1736\n",
      "Epoch 23/50\n",
      "185/185 [==============================] - 10s 55ms/step - loss: 0.0027 - accuracy: 0.1735\n",
      "Epoch 24/50\n",
      "185/185 [==============================] - 10s 55ms/step - loss: 0.0024 - accuracy: 0.1736\n",
      "Epoch 25/50\n",
      "185/185 [==============================] - 10s 55ms/step - loss: 0.0022 - accuracy: 0.1736\n",
      "Epoch 26/50\n",
      "185/185 [==============================] - 10s 55ms/step - loss: 0.0022 - accuracy: 0.1736\n",
      "Epoch 27/50\n",
      "185/185 [==============================] - 10s 55ms/step - loss: 0.0022 - accuracy: 0.1736\n",
      "Epoch 28/50\n",
      "185/185 [==============================] - 10s 55ms/step - loss: 0.0021 - accuracy: 0.1736\n",
      "Epoch 29/50\n",
      "185/185 [==============================] - 10s 55ms/step - loss: 0.0021 - accuracy: 0.1736\n",
      "Epoch 30/50\n",
      "185/185 [==============================] - 10s 55ms/step - loss: 0.0022 - accuracy: 0.1736\n",
      "Epoch 31/50\n",
      "185/185 [==============================] - 10s 55ms/step - loss: 0.0021 - accuracy: 0.1736\n",
      "Epoch 32/50\n",
      "185/185 [==============================] - 10s 55ms/step - loss: 0.0020 - accuracy: 0.1736\n",
      "Epoch 33/50\n",
      "185/185 [==============================] - 10s 55ms/step - loss: 0.0023 - accuracy: 0.1736\n",
      "Epoch 34/50\n",
      "185/185 [==============================] - 10s 55ms/step - loss: 0.0022 - accuracy: 0.1736\n",
      "Epoch 35/50\n",
      "185/185 [==============================] - 10s 55ms/step - loss: 0.0021 - accuracy: 0.1736\n",
      "Epoch 36/50\n",
      "185/185 [==============================] - 10s 55ms/step - loss: 0.0019 - accuracy: 0.1737\n",
      "Epoch 37/50\n",
      "185/185 [==============================] - 10s 55ms/step - loss: 0.0020 - accuracy: 0.1737\n",
      "Epoch 38/50\n",
      "185/185 [==============================] - 10s 55ms/step - loss: 0.0018 - accuracy: 0.1736\n",
      "Epoch 39/50\n",
      "185/185 [==============================] - 10s 55ms/step - loss: 0.0021 - accuracy: 0.1736\n",
      "Epoch 40/50\n",
      "185/185 [==============================] - 10s 55ms/step - loss: 0.0019 - accuracy: 0.1736\n",
      "Epoch 41/50\n",
      "185/185 [==============================] - 10s 55ms/step - loss: 0.0020 - accuracy: 0.1736\n",
      "Epoch 42/50\n",
      "185/185 [==============================] - 10s 55ms/step - loss: 0.0019 - accuracy: 0.1737\n",
      "Epoch 43/50\n",
      "185/185 [==============================] - 10s 55ms/step - loss: 0.0019 - accuracy: 0.1736\n",
      "Epoch 44/50\n",
      "185/185 [==============================] - 10s 55ms/step - loss: 0.0020 - accuracy: 0.1736\n",
      "Epoch 45/50\n",
      "185/185 [==============================] - 10s 55ms/step - loss: 0.0016 - accuracy: 0.1737\n",
      "Epoch 46/50\n",
      "185/185 [==============================] - 10s 55ms/step - loss: 0.0018 - accuracy: 0.1737\n",
      "Epoch 47/50\n",
      "185/185 [==============================] - 10s 55ms/step - loss: 0.0017 - accuracy: 0.1737\n",
      "Epoch 48/50\n",
      "185/185 [==============================] - 10s 55ms/step - loss: 0.0019 - accuracy: 0.1736\n",
      "Epoch 49/50\n",
      "185/185 [==============================] - 10s 55ms/step - loss: 0.0016 - accuracy: 0.1737\n",
      "Epoch 50/50\n",
      "185/185 [==============================] - 10s 55ms/step - loss: 0.0016 - accuracy: 0.1737\n"
     ]
    }
   ],
   "source": [
    "EPOCHS = 50\n",
    "#history_1 = model_1.fit(dataset, epochs=EPOCHS, verbose=1, callbacks = early_stop)\n",
    "history_1 = model_1.fit(dataset, epochs=EPOCHS, verbose=1)"
   ]
  },
  {
   "cell_type": "markdown",
   "id": "6f76af4a",
   "metadata": {},
   "source": [
    "**2. 모델 컴파일  및 훈련 (Layer=6, D_MODEL=256)**"
   ]
  },
  {
   "cell_type": "code",
   "execution_count": 122,
   "id": "131053b5",
   "metadata": {},
   "outputs": [
    {
     "name": "stdout",
     "output_type": "stream",
     "text": [
      "Model: \"transformer\"\n",
      "__________________________________________________________________________________________________\n",
      "Layer (type)                    Output Shape         Param #     Connected to                     \n",
      "==================================================================================================\n",
      "inputs (InputLayer)             [(None, None)]       0                                            \n",
      "__________________________________________________________________________________________________\n",
      "dec_inputs (InputLayer)         [(None, None)]       0                                            \n",
      "__________________________________________________________________________________________________\n",
      "enc_padding_mask (Lambda)       (None, 1, 1, None)   0           inputs[0][0]                     \n",
      "__________________________________________________________________________________________________\n",
      "encoder (Functional)            (None, None, 256)    5247488     inputs[0][0]                     \n",
      "                                                                 enc_padding_mask[0][0]           \n",
      "__________________________________________________________________________________________________\n",
      "look_ahead_mask (Lambda)        (None, 1, None, None 0           dec_inputs[0][0]                 \n",
      "__________________________________________________________________________________________________\n",
      "dec_padding_mask (Lambda)       (None, 1, 1, None)   0           inputs[0][0]                     \n",
      "__________________________________________________________________________________________________\n",
      "decoder (Functional)            (None, None, 256)    6829568     dec_inputs[0][0]                 \n",
      "                                                                 encoder[0][0]                    \n",
      "                                                                 look_ahead_mask[0][0]            \n",
      "                                                                 dec_padding_mask[0][0]           \n",
      "__________________________________________________________________________________________________\n",
      "outputs (Dense)                 (None, None, 8144)   2093008     decoder[0][0]                    \n",
      "==================================================================================================\n",
      "Total params: 14,170,064\n",
      "Trainable params: 14,170,064\n",
      "Non-trainable params: 0\n",
      "__________________________________________________________________________________________________\n"
     ]
    }
   ],
   "source": [
    "tf.keras.backend.clear_session() # TensorFlow에서 메모리 관리와 관련된 문제를 방지하기 위해 사용하는 함수\n",
    "                                 # Keras의 전역 상태(예: 모델, 레이어, 그래프 등)를 초기화해서 메모리를 정리\n",
    "\n",
    "# 하이퍼파라미터\n",
    "NUM_LAYERS = 6 # 인코더와 디코더의 층의 개수  ( 논문 6->2)\n",
    "D_MODEL = 256 # 인코더와 디코더 내부의 입, 출력의 고정 차원  (논문 512 -> 256)\n",
    "NUM_HEADS = 8 # 멀티 헤드 어텐션에서의 헤드 수 \n",
    "UNITS = 512 # 피드 포워드 신경망의 은닉층의 크기\n",
    "DROPOUT = 0.1 # 드롭아웃의 비율\n",
    "\n",
    "model_2 = transformer(\n",
    "    vocab_size=VOCAB_SIZE,\n",
    "    num_layers=NUM_LAYERS,\n",
    "    units=UNITS,\n",
    "    d_model=D_MODEL,\n",
    "    num_heads=NUM_HEADS,\n",
    "    dropout=DROPOUT)\n",
    "\n",
    "model_2.summary()"
   ]
  },
  {
   "cell_type": "code",
   "execution_count": 123,
   "id": "d83e1e90",
   "metadata": {},
   "outputs": [],
   "source": [
    "learning_rate = CustomSchedule(D_MODEL)\n",
    "\n",
    "optimizer = tf.keras.optimizers.Adam(\n",
    "    learning_rate, beta_1=0.9, beta_2=0.98, epsilon=1e-9)\n",
    "\n",
    "def accuracy(y_true, y_pred):\n",
    "  y_true = tf.reshape(y_true, shape=(-1, MAX_LENGTH - 1))\n",
    "  return tf.keras.metrics.sparse_categorical_accuracy(y_true, y_pred)\n",
    "\n",
    "model_2.compile(optimizer=optimizer, loss=loss_function, metrics=[accuracy])"
   ]
  },
  {
   "cell_type": "code",
   "execution_count": 124,
   "id": "6c01a755",
   "metadata": {},
   "outputs": [
    {
     "name": "stdout",
     "output_type": "stream",
     "text": [
      "Epoch 1/50\n",
      "185/185 [==============================] - 36s 118ms/step - loss: 1.4405 - accuracy: 0.0218\n",
      "Epoch 2/50\n",
      "185/185 [==============================] - 22s 121ms/step - loss: 1.1848 - accuracy: 0.0439\n",
      "Epoch 3/50\n",
      "185/185 [==============================] - 22s 118ms/step - loss: 1.0189 - accuracy: 0.0500\n",
      "Epoch 4/50\n",
      "185/185 [==============================] - 22s 117ms/step - loss: 0.9515 - accuracy: 0.0520\n",
      "Epoch 5/50\n",
      "185/185 [==============================] - 22s 118ms/step - loss: 0.9136 - accuracy: 0.0544\n",
      "Epoch 6/50\n",
      "185/185 [==============================] - 22s 118ms/step - loss: 0.8809 - accuracy: 0.0562\n",
      "Epoch 7/50\n",
      "185/185 [==============================] - 22s 118ms/step - loss: 0.8456 - accuracy: 0.0582\n",
      "Epoch 8/50\n",
      "185/185 [==============================] - 22s 118ms/step - loss: 0.8079 - accuracy: 0.0603\n",
      "Epoch 9/50\n",
      "185/185 [==============================] - 22s 117ms/step - loss: 0.7674 - accuracy: 0.0629\n",
      "Epoch 10/50\n",
      "185/185 [==============================] - 22s 117ms/step - loss: 0.7246 - accuracy: 0.0660\n",
      "Epoch 11/50\n",
      "185/185 [==============================] - 22s 118ms/step - loss: 0.6805 - accuracy: 0.0696\n",
      "Epoch 12/50\n",
      "185/185 [==============================] - 22s 122ms/step - loss: 0.6346 - accuracy: 0.0742\n",
      "Epoch 13/50\n",
      "185/185 [==============================] - 26s 139ms/step - loss: 0.5905 - accuracy: 0.0790\n",
      "Epoch 14/50\n",
      "185/185 [==============================] - 30s 160ms/step - loss: 0.5456 - accuracy: 0.0847\n",
      "Epoch 15/50\n",
      "185/185 [==============================] - 31s 165ms/step - loss: 0.5034 - accuracy: 0.0899\n",
      "Epoch 16/50\n",
      "185/185 [==============================] - 31s 167ms/step - loss: 0.4651 - accuracy: 0.0948\n",
      "Epoch 17/50\n",
      "185/185 [==============================] - 31s 169ms/step - loss: 0.4313 - accuracy: 0.0995\n",
      "Epoch 18/50\n",
      "185/185 [==============================] - 31s 165ms/step - loss: 0.3997 - accuracy: 0.1041\n",
      "Epoch 19/50\n",
      "185/185 [==============================] - 23s 123ms/step - loss: 0.3782 - accuracy: 0.1068\n",
      "Epoch 20/50\n",
      "185/185 [==============================] - 23s 122ms/step - loss: 0.3579 - accuracy: 0.1096\n",
      "Epoch 21/50\n",
      "185/185 [==============================] - 22s 119ms/step - loss: 0.3449 - accuracy: 0.1118\n",
      "Epoch 22/50\n",
      "185/185 [==============================] - 22s 118ms/step - loss: 0.3347 - accuracy: 0.1135\n",
      "Epoch 23/50\n",
      "185/185 [==============================] - 22s 117ms/step - loss: 0.3208 - accuracy: 0.1157\n",
      "Epoch 24/50\n",
      "185/185 [==============================] - 22s 117ms/step - loss: 0.3067 - accuracy: 0.1185\n",
      "Epoch 25/50\n",
      "185/185 [==============================] - 22s 118ms/step - loss: 0.2962 - accuracy: 0.1207\n",
      "Epoch 26/50\n",
      "185/185 [==============================] - 22s 117ms/step - loss: 0.2860 - accuracy: 0.1227\n",
      "Epoch 27/50\n",
      "185/185 [==============================] - 22s 118ms/step - loss: 0.2795 - accuracy: 0.1241\n",
      "Epoch 28/50\n",
      "185/185 [==============================] - 22s 119ms/step - loss: 0.2731 - accuracy: 0.1251\n",
      "Epoch 29/50\n",
      "185/185 [==============================] - 22s 118ms/step - loss: 0.2668 - accuracy: 0.1262\n",
      "Epoch 30/50\n",
      "185/185 [==============================] - 22s 118ms/step - loss: 0.2624 - accuracy: 0.1270\n",
      "Epoch 31/50\n",
      "185/185 [==============================] - 22s 117ms/step - loss: 0.2570 - accuracy: 0.1280\n",
      "Epoch 32/50\n",
      "185/185 [==============================] - 22s 118ms/step - loss: 0.2529 - accuracy: 0.1286\n",
      "Epoch 33/50\n",
      "185/185 [==============================] - 22s 118ms/step - loss: 0.2487 - accuracy: 0.1292\n",
      "Epoch 34/50\n",
      "185/185 [==============================] - 22s 118ms/step - loss: 0.2454 - accuracy: 0.1296\n",
      "Epoch 35/50\n",
      "185/185 [==============================] - 22s 117ms/step - loss: 0.2404 - accuracy: 0.1304\n",
      "Epoch 36/50\n",
      "185/185 [==============================] - 22s 118ms/step - loss: 0.2383 - accuracy: 0.1307\n",
      "Epoch 37/50\n",
      "185/185 [==============================] - 22s 117ms/step - loss: 0.2335 - accuracy: 0.1315\n",
      "Epoch 38/50\n",
      "185/185 [==============================] - 22s 118ms/step - loss: 0.2313 - accuracy: 0.1317\n",
      "Epoch 39/50\n",
      "185/185 [==============================] - 22s 117ms/step - loss: 0.2273 - accuracy: 0.1323\n",
      "Epoch 40/50\n",
      "185/185 [==============================] - 22s 117ms/step - loss: 0.2259 - accuracy: 0.1327\n",
      "Epoch 41/50\n",
      "185/185 [==============================] - 22s 117ms/step - loss: 0.2223 - accuracy: 0.1332\n",
      "Epoch 42/50\n",
      "185/185 [==============================] - 22s 118ms/step - loss: 0.2205 - accuracy: 0.1332\n",
      "Epoch 43/50\n",
      "185/185 [==============================] - 22s 118ms/step - loss: 0.2171 - accuracy: 0.1339\n",
      "Epoch 44/50\n",
      "185/185 [==============================] - 22s 117ms/step - loss: 0.2141 - accuracy: 0.1343\n",
      "Epoch 45/50\n",
      "185/185 [==============================] - 22s 118ms/step - loss: 0.2127 - accuracy: 0.1345\n",
      "Epoch 46/50\n",
      "185/185 [==============================] - 22s 117ms/step - loss: 0.2102 - accuracy: 0.1348\n",
      "Epoch 47/50\n",
      "185/185 [==============================] - 22s 118ms/step - loss: 0.2087 - accuracy: 0.1350\n",
      "Epoch 48/50\n",
      "185/185 [==============================] - 22s 117ms/step - loss: 0.2059 - accuracy: 0.1355\n",
      "Epoch 49/50\n",
      "185/185 [==============================] - 22s 117ms/step - loss: 0.2042 - accuracy: 0.1358\n",
      "Epoch 50/50\n",
      "185/185 [==============================] - 22s 117ms/step - loss: 0.2030 - accuracy: 0.1359\n"
     ]
    }
   ],
   "source": [
    "#EPOCHS = 10\n",
    "history_2 = model_2.fit(dataset, epochs=EPOCHS, verbose=1, callbacks = early_stop)"
   ]
  },
  {
   "cell_type": "markdown",
   "id": "7a6a02e4",
   "metadata": {},
   "source": [
    "**3. 모델 컴파일  및 훈련 (Layer=6, D_MODEL=512)**"
   ]
  },
  {
   "cell_type": "code",
   "execution_count": 125,
   "id": "f8a88028",
   "metadata": {},
   "outputs": [
    {
     "name": "stdout",
     "output_type": "stream",
     "text": [
      "Model: \"transformer\"\n",
      "__________________________________________________________________________________________________\n",
      "Layer (type)                    Output Shape         Param #     Connected to                     \n",
      "==================================================================================================\n",
      "inputs (InputLayer)             [(None, None)]       0                                            \n",
      "__________________________________________________________________________________________________\n",
      "dec_inputs (InputLayer)         [(None, None)]       0                                            \n",
      "__________________________________________________________________________________________________\n",
      "enc_padding_mask (Lambda)       (None, 1, 1, None)   0           inputs[0][0]                     \n",
      "__________________________________________________________________________________________________\n",
      "encoder (Functional)            (None, None, 512)    13637632    inputs[0][0]                     \n",
      "                                                                 enc_padding_mask[0][0]           \n",
      "__________________________________________________________________________________________________\n",
      "look_ahead_mask (Lambda)        (None, 1, None, None 0           dec_inputs[0][0]                 \n",
      "__________________________________________________________________________________________________\n",
      "dec_padding_mask (Lambda)       (None, 1, 1, None)   0           inputs[0][0]                     \n",
      "__________________________________________________________________________________________________\n",
      "decoder (Functional)            (None, None, 512)    19947520    dec_inputs[0][0]                 \n",
      "                                                                 encoder[0][0]                    \n",
      "                                                                 look_ahead_mask[0][0]            \n",
      "                                                                 dec_padding_mask[0][0]           \n",
      "__________________________________________________________________________________________________\n",
      "outputs (Dense)                 (None, None, 8144)   4177872     decoder[0][0]                    \n",
      "==================================================================================================\n",
      "Total params: 37,763,024\n",
      "Trainable params: 37,763,024\n",
      "Non-trainable params: 0\n",
      "__________________________________________________________________________________________________\n"
     ]
    }
   ],
   "source": [
    "tf.keras.backend.clear_session() # TensorFlow에서 메모리 관리와 관련된 문제를 방지하기 위해 사용하는 함수\n",
    "                                 # Keras의 전역 상태(예: 모델, 레이어, 그래프 등)를 초기화해서 메모리를 정리\n",
    "\n",
    "# 하이퍼파라미터\n",
    "NUM_LAYERS = 6 # 인코더와 디코더의 층의 개수  ( 논문 6->2)\n",
    "D_MODEL = 512 # 인코더와 디코더 내부의 입, 출력의 고정 차원  (논문 512 -> 256)\n",
    "NUM_HEADS = 8 # 멀티 헤드 어텐션에서의 헤드 수 \n",
    "UNITS = 512 # 피드 포워드 신경망의 은닉층의 크기\n",
    "DROPOUT = 0.1 # 드롭아웃의 비율\n",
    "\n",
    "model_3 = transformer(\n",
    "    vocab_size=VOCAB_SIZE,\n",
    "    num_layers=NUM_LAYERS,\n",
    "    units=UNITS,\n",
    "    d_model=D_MODEL,\n",
    "    num_heads=NUM_HEADS,\n",
    "    dropout=DROPOUT)\n",
    "\n",
    "model_3.summary()"
   ]
  },
  {
   "cell_type": "code",
   "execution_count": 126,
   "id": "4ce550e9",
   "metadata": {},
   "outputs": [],
   "source": [
    "learning_rate = CustomSchedule(D_MODEL)\n",
    "\n",
    "optimizer = tf.keras.optimizers.Adam(\n",
    "    learning_rate, beta_1=0.9, beta_2=0.98, epsilon=1e-9)\n",
    "\n",
    "def accuracy(y_true, y_pred):\n",
    "  y_true = tf.reshape(y_true, shape=(-1, MAX_LENGTH - 1))\n",
    "  return tf.keras.metrics.sparse_categorical_accuracy(y_true, y_pred)\n",
    "\n",
    "model_3.compile(optimizer=optimizer, loss=loss_function, metrics=[accuracy])"
   ]
  },
  {
   "cell_type": "code",
   "execution_count": 127,
   "id": "38294240",
   "metadata": {
    "scrolled": true
   },
   "outputs": [
    {
     "name": "stdout",
     "output_type": "stream",
     "text": [
      "Epoch 1/50\n",
      "185/185 [==============================] - 56s 228ms/step - loss: 1.3449 - accuracy: 0.0231\n",
      "Epoch 2/50\n",
      "185/185 [==============================] - 42s 225ms/step - loss: 1.0721 - accuracy: 0.0492\n",
      "Epoch 3/50\n",
      "185/185 [==============================] - 42s 226ms/step - loss: 0.9788 - accuracy: 0.0509\n",
      "Epoch 4/50\n",
      "185/185 [==============================] - 42s 226ms/step - loss: 0.9351 - accuracy: 0.0530\n",
      "Epoch 5/50\n",
      "185/185 [==============================] - 42s 225ms/step - loss: 0.9032 - accuracy: 0.0549\n",
      "Epoch 6/50\n",
      "185/185 [==============================] - 42s 226ms/step - loss: 0.8663 - accuracy: 0.0572\n",
      "Epoch 7/50\n",
      "185/185 [==============================] - 42s 227ms/step - loss: 0.8255 - accuracy: 0.0595\n",
      "Epoch 8/50\n",
      "185/185 [==============================] - 42s 227ms/step - loss: 0.7795 - accuracy: 0.0623\n",
      "Epoch 9/50\n",
      "185/185 [==============================] - 42s 227ms/step - loss: 0.7263 - accuracy: 0.0663\n",
      "Epoch 10/50\n",
      "185/185 [==============================] - 42s 227ms/step - loss: 0.6676 - accuracy: 0.0716\n",
      "Epoch 11/50\n",
      "185/185 [==============================] - 42s 226ms/step - loss: 0.6080 - accuracy: 0.0778\n",
      "Epoch 12/50\n",
      "185/185 [==============================] - 42s 226ms/step - loss: 0.5504 - accuracy: 0.0842\n",
      "Epoch 13/50\n",
      "185/185 [==============================] - 42s 226ms/step - loss: 0.4948 - accuracy: 0.0910\n",
      "Epoch 14/50\n",
      "185/185 [==============================] - 42s 226ms/step - loss: 0.4459 - accuracy: 0.0975\n",
      "Epoch 15/50\n",
      "185/185 [==============================] - 42s 227ms/step - loss: 0.4027 - accuracy: 0.1032\n",
      "Epoch 16/50\n",
      "185/185 [==============================] - 42s 226ms/step - loss: 0.3672 - accuracy: 0.1078\n",
      "Epoch 17/50\n",
      "185/185 [==============================] - 42s 227ms/step - loss: 0.3382 - accuracy: 0.1115\n",
      "Epoch 18/50\n",
      "185/185 [==============================] - 42s 227ms/step - loss: 0.3175 - accuracy: 0.1142\n",
      "Epoch 19/50\n",
      "185/185 [==============================] - 42s 226ms/step - loss: 0.2995 - accuracy: 0.1170\n",
      "Epoch 20/50\n",
      "185/185 [==============================] - 42s 226ms/step - loss: 0.2865 - accuracy: 0.1184\n",
      "Epoch 21/50\n",
      "185/185 [==============================] - 42s 226ms/step - loss: 0.2784 - accuracy: 0.1196\n",
      "Epoch 22/50\n",
      "185/185 [==============================] - 42s 226ms/step - loss: 0.2685 - accuracy: 0.1212\n",
      "Epoch 23/50\n",
      "185/185 [==============================] - 42s 226ms/step - loss: 0.2567 - accuracy: 0.1229\n",
      "Epoch 24/50\n",
      "185/185 [==============================] - 42s 226ms/step - loss: 0.2420 - accuracy: 0.1252\n",
      "Epoch 25/50\n",
      "185/185 [==============================] - 42s 227ms/step - loss: 0.2279 - accuracy: 0.1274\n",
      "Epoch 26/50\n",
      "185/185 [==============================] - 42s 226ms/step - loss: 0.2170 - accuracy: 0.1292\n",
      "Epoch 27/50\n",
      "185/185 [==============================] - 42s 226ms/step - loss: 0.2056 - accuracy: 0.1308\n",
      "Epoch 28/50\n",
      "185/185 [==============================] - 42s 226ms/step - loss: 0.1966 - accuracy: 0.1322\n",
      "Epoch 29/50\n",
      "185/185 [==============================] - 42s 226ms/step - loss: 0.1867 - accuracy: 0.1338\n",
      "Epoch 30/50\n",
      "185/185 [==============================] - 42s 225ms/step - loss: 0.1800 - accuracy: 0.1347\n",
      "Epoch 31/50\n",
      "185/185 [==============================] - 42s 225ms/step - loss: 0.1722 - accuracy: 0.1360\n",
      "Epoch 32/50\n",
      "185/185 [==============================] - 42s 225ms/step - loss: 0.1652 - accuracy: 0.1372\n",
      "Epoch 33/50\n",
      "185/185 [==============================] - 42s 226ms/step - loss: 0.1588 - accuracy: 0.1382\n",
      "Epoch 34/50\n",
      "185/185 [==============================] - 42s 225ms/step - loss: 0.1537 - accuracy: 0.1388\n",
      "Epoch 35/50\n",
      "185/185 [==============================] - 42s 225ms/step - loss: 0.1477 - accuracy: 0.1400\n",
      "Epoch 36/50\n",
      "185/185 [==============================] - 42s 226ms/step - loss: 0.1411 - accuracy: 0.1410\n",
      "Epoch 37/50\n",
      "185/185 [==============================] - 42s 226ms/step - loss: 0.1365 - accuracy: 0.1417\n",
      "Epoch 38/50\n",
      "185/185 [==============================] - 42s 226ms/step - loss: 0.1313 - accuracy: 0.1429\n",
      "Epoch 39/50\n",
      "185/185 [==============================] - 42s 225ms/step - loss: 0.1270 - accuracy: 0.1434\n",
      "Epoch 40/50\n",
      "185/185 [==============================] - 42s 226ms/step - loss: 0.1212 - accuracy: 0.1445\n",
      "Epoch 41/50\n",
      "185/185 [==============================] - 42s 226ms/step - loss: 0.1176 - accuracy: 0.1452\n",
      "Epoch 42/50\n",
      "185/185 [==============================] - 42s 226ms/step - loss: 0.1133 - accuracy: 0.1463\n",
      "Epoch 43/50\n",
      "185/185 [==============================] - 42s 225ms/step - loss: 0.1082 - accuracy: 0.1471\n",
      "Epoch 44/50\n",
      "185/185 [==============================] - 42s 225ms/step - loss: 0.1043 - accuracy: 0.1478\n",
      "Epoch 45/50\n",
      "185/185 [==============================] - 42s 225ms/step - loss: 0.1017 - accuracy: 0.1483\n",
      "Epoch 46/50\n",
      "185/185 [==============================] - 42s 225ms/step - loss: 0.1004 - accuracy: 0.1485\n",
      "Epoch 47/50\n",
      "185/185 [==============================] - 42s 226ms/step - loss: 0.0949 - accuracy: 0.1497\n",
      "Epoch 48/50\n",
      "185/185 [==============================] - 42s 226ms/step - loss: 0.0924 - accuracy: 0.1503\n",
      "Epoch 49/50\n",
      "185/185 [==============================] - 42s 225ms/step - loss: 0.0902 - accuracy: 0.1506\n",
      "Epoch 50/50\n",
      "185/185 [==============================] - 42s 226ms/step - loss: 0.0867 - accuracy: 0.1513\n"
     ]
    }
   ],
   "source": [
    "#EPOCHS = 10\n",
    "history_3 = model_3.fit(dataset, epochs=EPOCHS, verbose=1, callbacks = early_stop)"
   ]
  },
  {
   "cell_type": "code",
   "execution_count": 128,
   "id": "8e4a6350",
   "metadata": {
    "scrolled": false
   },
   "outputs": [
    {
     "name": "stdout",
     "output_type": "stream",
     "text": [
      "dict_keys(['loss', 'accuracy'])\n"
     ]
    }
   ],
   "source": [
    "print(history_3.history.keys())"
   ]
  },
  {
   "cell_type": "code",
   "execution_count": 145,
   "id": "eb60736e",
   "metadata": {},
   "outputs": [
    {
     "data": {
      "image/png": "[encoded data removed]",
      "text/plain": [
       "<Figure size 1008x360 with 2 Axes>"
      ]
     },
     "metadata": {
      "needs_background": "light"
     },
     "output_type": "display_data"
    }
   ],
   "source": [
    "import matplotlib.pyplot as plt\n",
    "\n",
    "\n",
    "acc1 = history_1.history['accuracy']\n",
    "loss1 = history_1.history['loss']\n",
    "\n",
    "\n",
    "acc2 = history_2.history['accuracy']\n",
    "loss2 = history_2.history['loss']\n",
    "\n",
    "acc3 = history_3.history['accuracy']\n",
    "loss3 = history_3.history['loss']\n",
    "\n",
    "epochs_range = range(1, len(acc1) + 1)\n",
    "\n",
    "\n",
    "plt.figure(figsize=(14, 5))\n",
    "plt.subplot(1, 2, 1)\n",
    "plt.plot(epochs_range, acc1, 'b', label='Training Accuracy1')\n",
    "plt.plot(epochs_range, acc2, 'g',label='Training Accuracy2')\n",
    "plt.plot(epochs_range, acc3, 'r',label='Training Accuracy3')\n",
    "plt.legend(loc='lower right')\n",
    "plt.title('Accuracy')\n",
    "\n",
    "plt.subplot(1, 2, 2)\n",
    "plt.plot(epochs_range, loss1, 'b',label='Training Loss1')\n",
    "plt.plot(epochs_range, loss2, 'g',label='Training Loss2')\n",
    "plt.plot(epochs_range, loss3, 'r',label='Training Loss3')\n",
    "plt.legend(loc='upper right')\n",
    "plt.title('Loss')\n",
    "plt.show()"
   ]
  },
  {
   "cell_type": "markdown",
   "id": "7182cfc0",
   "metadata": {},
   "source": [
    "## 테스트 (inference)"
   ]
  },
  {
   "cell_type": "markdown",
   "id": "0b7053ac",
   "metadata": {},
   "source": [
    "1) 새로운 입력 문장에 대해서는 훈련 때와 동일한 전처리를 거친다.\n",
    "2) 입력 문장을 토크나이징하고, START_TOKEN과 END_TOKEN을 추가한다.\n",
    "3) 패딩 마스킹과 룩 어헤드 마스킹을 계산한다.\n",
    "4) 디코더는 입력 시퀀스로부터 다음 단어를 예측한다.\n",
    "5) 디코더는 예측된 다음 단어를 기존의 입력 시퀀스에 추가하여 새로운 입력으로 사용한다.\n",
    "6) END_TOKEN이 예측되거나 문장의 최대 길이에 도달하면 디코더는 동작을 멈춘다"
   ]
  },
  {
   "cell_type": "code",
   "execution_count": 146,
   "id": "8ebf0674",
   "metadata": {},
   "outputs": [],
   "source": [
    "def decoder_inference(sentence):\n",
    "  sentence = preprocess_sentence(sentence)\n",
    "\n",
    "  # 입력된 문장을 정수 인코딩 후, 시작 토큰과 종료 토큰을 앞뒤로 추가.\n",
    "  # ex) Where have you been? → [[8331   86   30    5 1059    7 8332]]\n",
    "  sentence = tf.expand_dims(\n",
    "      START_TOKEN + tokenizer.encode(sentence) + END_TOKEN, axis=0)\n",
    "     # expand_dims : shape을 (1, sequence_length)로 만들어 배치처럼 보이게\n",
    "\n",
    "  # 디코더의 현재까지의 예측한 출력 시퀀스가 지속적으로 저장되는 변수.\n",
    "  # 처음에는 예측한 내용이 없음으로 시작 토큰만 별도 저장. ex) 8331\n",
    "  output_sequence = tf.expand_dims(START_TOKEN, 0)\n",
    "\n",
    "  # 디코더의 인퍼런스 단계\n",
    "  for i in range(MAX_LENGTH):\n",
    "    # 디코더는 최대 MAX_LENGTH의 길이만큼 다음 단어 예측을 반복합니다.\n",
    "    #predictions = model(inputs=[sentence, output_sequence], training=False)\n",
    "    predictions = model_1(inputs=[sentence, output_sequence], training=False)\n",
    "    #predictions = model_2(inputs=[sentence, output_sequence], training=False)\n",
    "    #predictions = model_3(inputs=[sentence, output_sequence], training=False)\n",
    "    predictions = predictions[:, -1:, :]\n",
    "    \n",
    "    # predictions : (batch_size, sequence_length, vocab_size) -> shape : (1, 1, 8333)\n",
    "    # : : 배치 전체 (1)\n",
    "    # -1:은 가장 마지막 토큰의 예측만 가져오기\n",
    "    # : : 전체 vocab에 대한 확률 (8333)\n",
    "    \n",
    "\n",
    "    # 현재 예측한 단어의 정수\n",
    "    predicted_id = tf.cast(tf.argmax(predictions, axis=-1), tf.int32)    # -> shape : (1,1)\n",
    "    #  tf.argmax는 int64 자료형 (자료형의 기본은 int64)\n",
    "    # output_sequece는 int32 자료형 (대부분 TesorFlow 모델은 int32로 처리)\n",
    "\n",
    "    # 만약 현재 예측한 단어가 종료 토큰이라면 for문을 종료\n",
    "    if tf.equal(predicted_id, END_TOKEN[0]):\n",
    "      break\n",
    "\n",
    "    # 예측한 단어들은 지속적으로 output_sequence에 추가됩니다.\n",
    "    # 이 output_sequence는 다시 디코더의 입력이 됩니다.\n",
    "    output_sequence = tf.concat([output_sequence, predicted_id], axis=-1)\n",
    "\n",
    "  return tf.squeeze(output_sequence, axis=0)\n"
   ]
  },
  {
   "cell_type": "code",
   "execution_count": 147,
   "id": "1b1b4882",
   "metadata": {},
   "outputs": [],
   "source": [
    "def sentence_generation(sentence):\n",
    "  # 입력 문장에 대해서 디코더를 동작 시켜 예측된 정수 시퀀스를 리턴받습니다.\n",
    "  prediction = decoder_inference(sentence)\n",
    "\n",
    "  # 정수 시퀀스를 다시 텍스트 시퀀스로 변환합니다.\n",
    "  predicted_sentence = tokenizer.decode(\n",
    "      [i for i in prediction if i < tokenizer.vocab_size])\n",
    "\n",
    "  print('입력 : {}'.format(sentence))\n",
    "  print('출력 : {}'.format(predicted_sentence))\n",
    "\n",
    "  return predicted_sentence\n"
   ]
  },
  {
   "cell_type": "code",
   "execution_count": 148,
   "id": "b02fedd1",
   "metadata": {},
   "outputs": [
    {
     "name": "stdout",
     "output_type": "stream",
     "text": [
      "입력 : 어제 뭐 했어?\n",
      "출력 : 잘하고 오세요 . \n"
     ]
    },
    {
     "data": {
      "text/plain": [
       "'잘하고 오세요 . '"
      ]
     },
     "execution_count": 148,
     "metadata": {},
     "output_type": "execute_result"
    }
   ],
   "source": [
    "sentence_generation('어제 뭐 했어?')"
   ]
  },
  {
   "cell_type": "code",
   "execution_count": 149,
   "id": "eb2e433e",
   "metadata": {},
   "outputs": [
    {
     "name": "stdout",
     "output_type": "stream",
     "text": [
      "입력 : test는 어땠어?\n",
      "출력 : 많이 힘들지 않길 바랄게요 . \n"
     ]
    },
    {
     "data": {
      "text/plain": [
       "'많이 힘들지 않길 바랄게요 . '"
      ]
     },
     "execution_count": 149,
     "metadata": {},
     "output_type": "execute_result"
    }
   ],
   "source": [
    "sentence_generation(\"test는 어땠어?\")"
   ]
  },
  {
   "cell_type": "code",
   "execution_count": 150,
   "id": "c7cf428c",
   "metadata": {},
   "outputs": [
    {
     "name": "stdout",
     "output_type": "stream",
     "text": [
      "입력 : 내일 비가 올거 같아?\n",
      "출력 : 마음의 준비를 해야 할지도 모르겠어요 . \n"
     ]
    },
    {
     "data": {
      "text/plain": [
       "'마음의 준비를 해야 할지도 모르겠어요 . '"
      ]
     },
     "execution_count": 150,
     "metadata": {},
     "output_type": "execute_result"
    }
   ],
   "source": [
    "sentence_generation(\"내일 비가 올거 같아?\")"
   ]
  },
  {
   "cell_type": "code",
   "execution_count": 151,
   "id": "6b2c4776",
   "metadata": {},
   "outputs": [
    {
     "name": "stdout",
     "output_type": "stream",
     "text": [
      "입력 : 내일 뭐 하고 싶어?\n",
      "출력 : 잊어버리세요 . \n"
     ]
    },
    {
     "data": {
      "text/plain": [
       "'잊어버리세요 . '"
      ]
     },
     "execution_count": 151,
     "metadata": {},
     "output_type": "execute_result"
    }
   ],
   "source": [
    "sentence_generation(\"내일 뭐 하고 싶어?\")"
   ]
  },
  {
   "cell_type": "code",
   "execution_count": 152,
   "id": "f9e242c9",
   "metadata": {},
   "outputs": [
    {
     "name": "stdout",
     "output_type": "stream",
     "text": [
      "입력 : 딥러닝으로 이미지 생성 할 수 있어\n",
      "출력 : 잘  ! \n"
     ]
    },
    {
     "data": {
      "text/plain": [
       "'잘  ! '"
      ]
     },
     "execution_count": 152,
     "metadata": {},
     "output_type": "execute_result"
    }
   ],
   "source": [
    "sentence_generation(\"딥러닝으로 이미지 생성 할 수 있어\")"
   ]
  },
  {
   "cell_type": "code",
   "execution_count": 153,
   "id": "04b755c7",
   "metadata": {},
   "outputs": [
    {
     "name": "stdout",
     "output_type": "stream",
     "text": [
      "입력 : 어깨 운동 추천해줄래?\n",
      "출력 : 받는 사람이 부담스럽지 않는 선일 것 같습니다 . \n"
     ]
    },
    {
     "data": {
      "text/plain": [
       "'받는 사람이 부담스럽지 않는 선일 것 같습니다 . '"
      ]
     },
     "execution_count": 153,
     "metadata": {},
     "output_type": "execute_result"
    }
   ],
   "source": [
    "sentence_generation(\"어깨 운동 추천해줄래?\")"
   ]
  },
  {
   "cell_type": "code",
   "execution_count": 154,
   "id": "1843ea7a",
   "metadata": {},
   "outputs": [
    {
     "name": "stdout",
     "output_type": "stream",
     "text": [
      "입력 : what are you doing?\n",
      "출력 : 다른 사람 말은 한 귀로 흘리세요 . \n"
     ]
    },
    {
     "data": {
      "text/plain": [
       "'다른 사람 말은 한 귀로 흘리세요 . '"
      ]
     },
     "execution_count": 154,
     "metadata": {},
     "output_type": "execute_result"
    }
   ],
   "source": [
    "sentence_generation(\"what are you doing?\")"
   ]
  },
  {
   "cell_type": "code",
   "execution_count": 155,
   "id": "8150c100",
   "metadata": {},
   "outputs": [
    {
     "name": "stdout",
     "output_type": "stream",
     "text": [
      "입력 : 호두 정과 정말 맛있어\n",
      "출력 : 상종하지마세요 . \n"
     ]
    },
    {
     "data": {
      "text/plain": [
       "'상종하지마세요 . '"
      ]
     },
     "execution_count": 155,
     "metadata": {},
     "output_type": "execute_result"
    }
   ],
   "source": [
    "sentence_generation(\"호두 정과 정말 맛있어\")"
   ]
  },
  {
   "cell_type": "code",
   "execution_count": 156,
   "id": "d5b1da98",
   "metadata": {
    "scrolled": true
   },
   "outputs": [
    {
     "name": "stdout",
     "output_type": "stream",
     "text": [
      "입력 : 흑임자 두부 만드는 법 알아\n",
      "출력 : 상대방도 미소짓게 해주세요 . \n"
     ]
    },
    {
     "data": {
      "text/plain": [
       "'상대방도 미소짓게 해주세요 . '"
      ]
     },
     "execution_count": 156,
     "metadata": {},
     "output_type": "execute_result"
    }
   ],
   "source": [
    "sentence_generation(\"흑임자 두부 만드는 법 알아\")"
   ]
  },
  {
   "cell_type": "markdown",
   "id": "161d741f",
   "metadata": {},
   "source": [
    "## 회고 \n",
    "\n",
    "Layer와 D_Model을 크게하면, 학습에 시간이 오래 걸리므로, epoch를 크게 줘야 함. \n",
    "\n",
    "질문에 대한 답변이 적절하지는 않지만, 짧은 문장으로 부드럽게 응답한다. "
   ]
  }
 ],
 "metadata": {
  "kernelspec": {
   "display_name": "Python 3 (ipykernel)",
   "language": "python",
   "name": "python3"
  },
  "language_info": {
   "codemirror_mode": {
    "name": "ipython",
    "version": 3
   },
   "file_extension": ".py",
   "mimetype": "text/x-python",
   "name": "python",
   "nbconvert_exporter": "python",
   "pygments_lexer": "ipython3",
   "version": "3.9.7"
  }
 },
 "nbformat": 4,
 "nbformat_minor": 5
}
